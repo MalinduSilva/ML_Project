{
  "nbformat": 4,
  "nbformat_minor": 0,
  "metadata": {
    "colab": {
      "name": "ml project1",
      "provenance": [],
      "collapsed_sections": [],
      "include_colab_link": true
    },
    "kernelspec": {
      "name": "python3",
      "display_name": "Python 3"
    }
  },
  "cells": [
    {
      "cell_type": "markdown",
      "metadata": {
        "id": "view-in-github",
        "colab_type": "text"
      },
      "source": [
        "<a href=\"https://colab.research.google.com/github/MalinduSilva/ML_Project/blob/main/ml_project1.ipynb\" target=\"_parent\"><img src=\"https://colab.research.google.com/assets/colab-badge.svg\" alt=\"Open In Colab\"/></a>"
      ]
    },
    {
      "cell_type": "code",
      "metadata": {
        "id": "PHzPV5XiOcHW"
      },
      "source": [
        "import numpy as np\n",
        "import pandas as pd\n",
        "import matplotlib.pyplot as plt\n",
        "import seaborn as sns \n",
        "%matplotlib inline"
      ],
      "execution_count": null,
      "outputs": []
    },
    {
      "cell_type": "code",
      "metadata": {
        "id": "zUxA_TKi6HdC",
        "colab": {
          "resources": {
            "http://localhost:8080/nbextensions/google.colab/files.js": {
              "data": "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",
              "ok": true,
              "headers": [
                [
                  "content-type",
                  "application/javascript"
                ]
              ],
              "status": 200,
              "status_text": ""
            }
          },
          "base_uri": "https://localhost:8080/",
          "height": 73
        },
        "outputId": "f9618962-35e4-4fd1-98f9-8dbac9be4a21"
      },
      "source": [
        "from google.colab import files\n",
        "data_to_load = files.upload()"
      ],
      "execution_count": null,
      "outputs": [
        {
          "output_type": "display_data",
          "data": {
            "text/html": [
              "\n",
              "     <input type=\"file\" id=\"files-b4c6b95f-8fdd-4af4-9ada-ca483faab51c\" name=\"files[]\" multiple disabled\n",
              "        style=\"border:none\" />\n",
              "     <output id=\"result-b4c6b95f-8fdd-4af4-9ada-ca483faab51c\">\n",
              "      Upload widget is only available when the cell has been executed in the\n",
              "      current browser session. Please rerun this cell to enable.\n",
              "      </output>\n",
              "      <script src=\"/nbextensions/google.colab/files.js\"></script> "
            ],
            "text/plain": [
              "<IPython.core.display.HTML object>"
            ]
          },
          "metadata": {
            "tags": []
          }
        },
        {
          "output_type": "stream",
          "text": [
            "Saving Attribute_DataSet.csv to Attribute_DataSet.csv\n"
          ],
          "name": "stdout"
        }
      ]
    },
    {
      "cell_type": "code",
      "metadata": {
        "id": "jERSM4UbRWDk",
        "colab": {
          "base_uri": "https://localhost:8080/",
          "height": 195
        },
        "outputId": "cd958e68-809d-4c5a-8da4-0fac0015d71d"
      },
      "source": [
        "import io\n",
        "attribute_data=pd.read_csv(io.BytesIO(data_to_load['Attribute_DataSet.csv']))\n",
        "attribute_data.head()"
      ],
      "execution_count": null,
      "outputs": [
        {
          "output_type": "execute_result",
          "data": {
            "text/html": [
              "<div>\n",
              "<style scoped>\n",
              "    .dataframe tbody tr th:only-of-type {\n",
              "        vertical-align: middle;\n",
              "    }\n",
              "\n",
              "    .dataframe tbody tr th {\n",
              "        vertical-align: top;\n",
              "    }\n",
              "\n",
              "    .dataframe thead th {\n",
              "        text-align: right;\n",
              "    }\n",
              "</style>\n",
              "<table border=\"1\" class=\"dataframe\">\n",
              "  <thead>\n",
              "    <tr style=\"text-align: right;\">\n",
              "      <th></th>\n",
              "      <th>Dress_ID</th>\n",
              "      <th>Style</th>\n",
              "      <th>Price</th>\n",
              "      <th>PatternType</th>\n",
              "      <th>Size</th>\n",
              "      <th>Season</th>\n",
              "      <th>NeckLine</th>\n",
              "      <th>SleeveLength</th>\n",
              "      <th>waiseline</th>\n",
              "      <th>Material</th>\n",
              "      <th>FabricType</th>\n",
              "      <th>Decoration</th>\n",
              "      <th>Rating</th>\n",
              "      <th>Recommendation</th>\n",
              "    </tr>\n",
              "  </thead>\n",
              "  <tbody>\n",
              "    <tr>\n",
              "      <th>0</th>\n",
              "      <td>1006032852</td>\n",
              "      <td>Sexy</td>\n",
              "      <td>Low</td>\n",
              "      <td>animal</td>\n",
              "      <td>M</td>\n",
              "      <td>Summer</td>\n",
              "      <td>o-neck</td>\n",
              "      <td>sleevless</td>\n",
              "      <td>empire</td>\n",
              "      <td>NaN</td>\n",
              "      <td>chiffon</td>\n",
              "      <td>ruffles</td>\n",
              "      <td>4.6</td>\n",
              "      <td>1</td>\n",
              "    </tr>\n",
              "    <tr>\n",
              "      <th>1</th>\n",
              "      <td>1212192089</td>\n",
              "      <td>Casual</td>\n",
              "      <td>Low</td>\n",
              "      <td>animal</td>\n",
              "      <td>L</td>\n",
              "      <td>Summer</td>\n",
              "      <td>o-neck</td>\n",
              "      <td>Petal</td>\n",
              "      <td>natural</td>\n",
              "      <td>microfiber</td>\n",
              "      <td>NaN</td>\n",
              "      <td>ruffles</td>\n",
              "      <td>0.0</td>\n",
              "      <td>0</td>\n",
              "    </tr>\n",
              "    <tr>\n",
              "      <th>2</th>\n",
              "      <td>1190380701</td>\n",
              "      <td>vintage</td>\n",
              "      <td>High</td>\n",
              "      <td>print</td>\n",
              "      <td>L</td>\n",
              "      <td>Automn</td>\n",
              "      <td>o-neck</td>\n",
              "      <td>full</td>\n",
              "      <td>natural</td>\n",
              "      <td>polyster</td>\n",
              "      <td>NaN</td>\n",
              "      <td>NaN</td>\n",
              "      <td>0.0</td>\n",
              "      <td>0</td>\n",
              "    </tr>\n",
              "    <tr>\n",
              "      <th>3</th>\n",
              "      <td>966005983</td>\n",
              "      <td>Brief</td>\n",
              "      <td>Average</td>\n",
              "      <td>print</td>\n",
              "      <td>L</td>\n",
              "      <td>Spring</td>\n",
              "      <td>o-neck</td>\n",
              "      <td>full</td>\n",
              "      <td>natural</td>\n",
              "      <td>silk</td>\n",
              "      <td>chiffon</td>\n",
              "      <td>embroidary</td>\n",
              "      <td>4.6</td>\n",
              "      <td>1</td>\n",
              "    </tr>\n",
              "    <tr>\n",
              "      <th>4</th>\n",
              "      <td>876339541</td>\n",
              "      <td>cute</td>\n",
              "      <td>Low</td>\n",
              "      <td>dot</td>\n",
              "      <td>M</td>\n",
              "      <td>Summer</td>\n",
              "      <td>o-neck</td>\n",
              "      <td>butterfly</td>\n",
              "      <td>natural</td>\n",
              "      <td>chiffonfabric</td>\n",
              "      <td>chiffon</td>\n",
              "      <td>bow</td>\n",
              "      <td>4.5</td>\n",
              "      <td>0</td>\n",
              "    </tr>\n",
              "  </tbody>\n",
              "</table>\n",
              "</div>"
            ],
            "text/plain": [
              "     Dress_ID    Style    Price  ...  Decoration Rating Recommendation\n",
              "0  1006032852     Sexy      Low  ...     ruffles    4.6              1\n",
              "1  1212192089   Casual      Low  ...     ruffles    0.0              0\n",
              "2  1190380701  vintage     High  ...         NaN    0.0              0\n",
              "3   966005983    Brief  Average  ...  embroidary    4.6              1\n",
              "4   876339541     cute      Low  ...         bow    4.5              0\n",
              "\n",
              "[5 rows x 14 columns]"
            ]
          },
          "metadata": {
            "tags": []
          },
          "execution_count": 3
        }
      ]
    },
    {
      "cell_type": "code",
      "metadata": {
        "id": "z-tO2djQSJp6",
        "colab": {
          "base_uri": "https://localhost:8080/"
        },
        "outputId": "2c07ca83-31b8-40a7-d481-6bb42ce1e0fb"
      },
      "source": [
        "attribute_data.columns "
      ],
      "execution_count": null,
      "outputs": [
        {
          "output_type": "execute_result",
          "data": {
            "text/plain": [
              "Index(['Dress_ID', 'Style', 'Price', 'PatternType', 'Size', 'Season',\n",
              "       'NeckLine', 'SleeveLength', 'waiseline', 'Material', 'FabricType',\n",
              "       'Decoration', 'Rating', 'Recommendation'],\n",
              "      dtype='object')"
            ]
          },
          "metadata": {
            "tags": []
          },
          "execution_count": 4
        }
      ]
    },
    {
      "cell_type": "code",
      "metadata": {
        "id": "jmN6j4x6Tq7P"
      },
      "source": [
        "attribute_data=attribute_data.set_index('Dress_ID', inplace=False)"
      ],
      "execution_count": null,
      "outputs": []
    },
    {
      "cell_type": "markdown",
      "metadata": {
        "id": "maib2zSEXOg7"
      },
      "source": [
        "**Data Cleaning**"
      ]
    },
    {
      "cell_type": "code",
      "metadata": {
        "id": "thGY6GGHXBCL",
        "colab": {
          "base_uri": "https://localhost:8080/"
        },
        "outputId": "e4356f20-7571-46f1-f3ba-6a5cecf141ed"
      },
      "source": [
        "attribute_data.isnull().sum()"
      ],
      "execution_count": null,
      "outputs": [
        {
          "output_type": "execute_result",
          "data": {
            "text/plain": [
              "Style               0\n",
              "Price               2\n",
              "PatternType       109\n",
              "Size                0\n",
              "Season              2\n",
              "NeckLine            3\n",
              "SleeveLength        2\n",
              "waiseline          87\n",
              "Material          128\n",
              "FabricType        266\n",
              "Decoration        236\n",
              "Rating              0\n",
              "Recommendation      0\n",
              "dtype: int64"
            ]
          },
          "metadata": {
            "tags": []
          },
          "execution_count": 6
        }
      ]
    },
    {
      "cell_type": "code",
      "metadata": {
        "id": "2cSRbwAuXbiA"
      },
      "source": [
        "attribute_data=attribute_data.drop(['FabricType', 'Decoration'],axis=1)"
      ],
      "execution_count": null,
      "outputs": []
    },
    {
      "cell_type": "code",
      "metadata": {
        "id": "-oe2vcmSXwGV",
        "colab": {
          "base_uri": "https://localhost:8080/"
        },
        "outputId": "63fdd9f9-4f8f-494a-9cf3-6d7027f24a3a"
      },
      "source": [
        "attribute_data['Style'].value_counts()"
      ],
      "execution_count": null,
      "outputs": [
        {
          "output_type": "execute_result",
          "data": {
            "text/plain": [
              "Casual      232\n",
              "Sexy         69\n",
              "party        51\n",
              "cute         45\n",
              "vintage      25\n",
              "bohemian     24\n",
              "Brief        18\n",
              "work         17\n",
              "Novelty       8\n",
              "sexy          7\n",
              "Flare         2\n",
              "OL            1\n",
              "fashion       1\n",
              "Name: Style, dtype: int64"
            ]
          },
          "metadata": {
            "tags": []
          },
          "execution_count": 8
        }
      ]
    },
    {
      "cell_type": "code",
      "metadata": {
        "id": "DpG0XCxxX8ln"
      },
      "source": [
        "attribute_data['Style']=attribute_data['Style'].str.lower()"
      ],
      "execution_count": null,
      "outputs": []
    },
    {
      "cell_type": "code",
      "metadata": {
        "id": "zl-F9KkpYJM8",
        "colab": {
          "base_uri": "https://localhost:8080/"
        },
        "outputId": "fe86ffa2-a75b-4134-d899-5a16a8712a65"
      },
      "source": [
        "attribute_data['Season'].value_counts()"
      ],
      "execution_count": null,
      "outputs": [
        {
          "output_type": "execute_result",
          "data": {
            "text/plain": [
              "Summer    159\n",
              "Spring    122\n",
              "Winter     99\n",
              "Automn     61\n",
              "winter     46\n",
              "Autumn      8\n",
              "spring      2\n",
              "summer      1\n",
              "Name: Season, dtype: int64"
            ]
          },
          "metadata": {
            "tags": []
          },
          "execution_count": 10
        }
      ]
    },
    {
      "cell_type": "code",
      "metadata": {
        "id": "A1Pzb4XKYRyV"
      },
      "source": [
        "attribute_data['Season']=attribute_data['Season'].str.lower()\n",
        "attribute_data.loc[(attribute_data.Season  == 'automn'),'Season']= 'autumn'"
      ],
      "execution_count": null,
      "outputs": []
    },
    {
      "cell_type": "code",
      "metadata": {
        "id": "Dg0vUeJ7Ywdp",
        "colab": {
          "base_uri": "https://localhost:8080/"
        },
        "outputId": "ef039250-6543-4410-cf0b-0ef641bc4862"
      },
      "source": [
        "attribute_data[attribute_data['Season'].isnull()].index.tolist()"
      ],
      "execution_count": null,
      "outputs": [
        {
          "output_type": "execute_result",
          "data": {
            "text/plain": [
              "[929797706, 751364623]"
            ]
          },
          "metadata": {
            "tags": []
          },
          "execution_count": 12
        }
      ]
    },
    {
      "cell_type": "code",
      "metadata": {
        "id": "067El0sMY_cv",
        "colab": {
          "base_uri": "https://localhost:8080/"
        },
        "outputId": "2cb840ab-95ef-40fc-c456-71e5f3ed5faf"
      },
      "source": [
        "attribute_data.loc[751364623]"
      ],
      "execution_count": null,
      "outputs": [
        {
          "output_type": "execute_result",
          "data": {
            "text/plain": [
              "Style                  party\n",
              "Price                Average\n",
              "PatternType              NaN\n",
              "Size                       L\n",
              "Season                   NaN\n",
              "NeckLine          Sweetheart\n",
              "SleeveLength       sleevless\n",
              "waiseline             empire\n",
              "Material                 NaN\n",
              "Rating                   4.8\n",
              "Recommendation             1\n",
              "Name: 751364623, dtype: object"
            ]
          },
          "metadata": {
            "tags": []
          },
          "execution_count": 13
        }
      ]
    },
    {
      "cell_type": "code",
      "metadata": {
        "id": "Xv8m2pRQZKaa",
        "colab": {
          "base_uri": "https://localhost:8080/"
        },
        "outputId": "dae37f58-3890-4a47-bcd5-f9b83b83a5e3"
      },
      "source": [
        "attribute_data.loc[929797706]"
      ],
      "execution_count": null,
      "outputs": [
        {
          "output_type": "execute_result",
          "data": {
            "text/plain": [
              "Style                casual\n",
              "Price                   Low\n",
              "PatternType       patchwork\n",
              "Size                   free\n",
              "Season                  NaN\n",
              "NeckLine             o-neck\n",
              "SleeveLength           full\n",
              "waiseline           natural\n",
              "Material             cotton\n",
              "Rating                    0\n",
              "Recommendation            0\n",
              "Name: 929797706, dtype: object"
            ]
          },
          "metadata": {
            "tags": []
          },
          "execution_count": 14
        }
      ]
    },
    {
      "cell_type": "code",
      "metadata": {
        "id": "8gS4w6IQZQ2P"
      },
      "source": [
        "attribute_data.at[751364623, 'Season']= 'summer'\n",
        "attribute_data['Season'].fillna(attribute_data['Season'].mode()[0], inplace=True)"
      ],
      "execution_count": null,
      "outputs": []
    },
    {
      "cell_type": "code",
      "metadata": {
        "id": "4fKFomXFwmKS"
      },
      "source": [
        ""
      ],
      "execution_count": null,
      "outputs": []
    },
    {
      "cell_type": "code",
      "metadata": {
        "id": "Uyf4Td5xZtjQ",
        "colab": {
          "base_uri": "https://localhost:8080/"
        },
        "outputId": "3f2fc696-f689-40e2-90bb-0f538df00c60"
      },
      "source": [
        "attribute_data['Price'].value_counts()"
      ],
      "execution_count": null,
      "outputs": [
        {
          "output_type": "execute_result",
          "data": {
            "text/plain": [
              "Average      252\n",
              "Low          129\n",
              "low           45\n",
              "Medium        30\n",
              "very-high     21\n",
              "high          15\n",
              "High           6\n",
              "Name: Price, dtype: int64"
            ]
          },
          "metadata": {
            "tags": []
          },
          "execution_count": 16
        }
      ]
    },
    {
      "cell_type": "code",
      "metadata": {
        "id": "OMQBEwoFZ0fY"
      },
      "source": [
        "attribute_data['Price']=attribute_data['Price'].str.lower()\n",
        "attribute_data.loc[(attribute_data.Price  == 'medium'),'Price']= 'average'\n",
        "attribute_data['Price'] = attribute_data.groupby(['Season','Style'])['Price'].transform(lambda x: x.fillna(x.value_counts().index[0]))"
      ],
      "execution_count": null,
      "outputs": []
    },
    {
      "cell_type": "code",
      "metadata": {
        "id": "ChE1TsgZav1E",
        "colab": {
          "base_uri": "https://localhost:8080/"
        },
        "outputId": "91de8ab8-f3fd-4c60-c04b-f16e6945ae23"
      },
      "source": [
        "attribute_data['NeckLine'].value_counts()"
      ],
      "execution_count": null,
      "outputs": [
        {
          "output_type": "execute_result",
          "data": {
            "text/plain": [
              "o-neck             271\n",
              "v-neck             124\n",
              "slash-neck          25\n",
              "boat-neck           19\n",
              "Sweetheart          14\n",
              "turndowncollor      13\n",
              "bowneck             10\n",
              "peterpan-collor      6\n",
              "sqare-collor         5\n",
              "open                 3\n",
              "Scoop                2\n",
              "ruffled              1\n",
              "backless             1\n",
              "sweetheart           1\n",
              "mandarin-collor      1\n",
              "halter               1\n",
              "Name: NeckLine, dtype: int64"
            ]
          },
          "metadata": {
            "tags": []
          },
          "execution_count": 18
        }
      ]
    },
    {
      "cell_type": "code",
      "metadata": {
        "id": "8EQ09Z7za6fe"
      },
      "source": [
        "attribute_data['NeckLine']=attribute_data['NeckLine'].str.lower()\n",
        "attribute_data.loc[(attribute_data.NeckLine  == 'bowneck'),'NeckLine']= 'bow-neck'\n",
        "attribute_data.loc[(attribute_data.NeckLine  == 'turndowncollor'),'NeckLine']= 'turndown-collor'\n",
        "attribute_data.loc[(attribute_data.NeckLine  == 'square-collor'),'NeckLine']= 'square-collor'\n",
        "attribute_data['NeckLine'] = attribute_data.groupby(['Season','Style'])['NeckLine'].transform(lambda x: x.fillna(x.value_counts().index[0]))"
      ],
      "execution_count": null,
      "outputs": []
    },
    {
      "cell_type": "code",
      "metadata": {
        "id": "JZghMb-Rcb6R",
        "colab": {
          "base_uri": "https://localhost:8080/"
        },
        "outputId": "e8078ca8-9f9a-4cfd-c0b2-ca4420b4c0e5"
      },
      "source": [
        "attribute_data['SleeveLength'].value_counts()"
      ],
      "execution_count": null,
      "outputs": [
        {
          "output_type": "execute_result",
          "data": {
            "text/plain": [
              "sleevless         223\n",
              "full               97\n",
              "short              96\n",
              "halfsleeve         35\n",
              "threequarter       17\n",
              "thressqatar        10\n",
              "sleeveless          5\n",
              "capsleeves          3\n",
              "sleeevless          3\n",
              "cap-sleeves         2\n",
              "Petal               1\n",
              "half                1\n",
              "threequater         1\n",
              "turndowncollor      1\n",
              "urndowncollor       1\n",
              "sleveless           1\n",
              "butterfly           1\n",
              "Name: SleeveLength, dtype: int64"
            ]
          },
          "metadata": {
            "tags": []
          },
          "execution_count": 20
        }
      ]
    },
    {
      "cell_type": "code",
      "metadata": {
        "id": "1TeaxEUGcjVS"
      },
      "source": [
        "attribute_data.loc[(attribute_data.SleeveLength  == 'thressqatar'),'SleeveLength']= 'threequater'\n",
        "attribute_data.loc[(attribute_data.SleeveLength  == 'sleevless'),'SleeveLength']= 'sleeveless'\n",
        "attribute_data.loc[(attribute_data.SleeveLength  == 'capsleeves'),'SleeveLength']= 'cap-sleeves'\n",
        "attribute_data.loc[(attribute_data.SleeveLength  == 'sleevless'),'SleeveLength']= 'sleevless'\n",
        "attribute_data.loc[(attribute_data.SleeveLength  == 'urndowncollor'),'SleeveLength']= 'turndown'\n",
        "attribute_data.loc[(attribute_data.SleeveLength  == 'threequater'),'SleeveLength']= 'threequater'\n",
        "attribute_data.loc[(attribute_data.SleeveLength  == 'turndowncollor'),'SleeveLength']= 'turndown'\n",
        "attribute_data.loc[(attribute_data.SleeveLength  == 'sleevless'),'SleeveLength']= 'sleevless'\n",
        "attribute_data.loc[(attribute_data.SleeveLength  == 'halfsleeve'),'SleeveLength']= 'half'\n",
        "attribute_data['SleeveLength'] = attribute_data['SleeveLength'].fillna(value='other')"
      ],
      "execution_count": null,
      "outputs": []
    },
    {
      "cell_type": "code",
      "metadata": {
        "id": "zR1Rq75seEmt",
        "colab": {
          "base_uri": "https://localhost:8080/"
        },
        "outputId": "ddd48c82-463f-4ac1-8982-5360c383aa10"
      },
      "source": [
        "attribute_data['waiseline'].value_counts()"
      ],
      "execution_count": null,
      "outputs": [
        {
          "output_type": "execute_result",
          "data": {
            "text/plain": [
              "natural     304\n",
              "empire      104\n",
              "dropped       4\n",
              "princess      1\n",
              "Name: waiseline, dtype: int64"
            ]
          },
          "metadata": {
            "tags": []
          },
          "execution_count": 22
        }
      ]
    },
    {
      "cell_type": "code",
      "metadata": {
        "id": "PPTIVtAVei5e",
        "colab": {
          "base_uri": "https://localhost:8080/"
        },
        "outputId": "34039488-1aca-4585-8c01-4d1bf3bc03d9"
      },
      "source": [
        "attribute_data['Material'].value_counts()"
      ],
      "execution_count": null,
      "outputs": [
        {
          "output_type": "execute_result",
          "data": {
            "text/plain": [
              "cotton           152\n",
              "polyster          99\n",
              "silk              26\n",
              "chiffonfabric     25\n",
              "mix               12\n",
              "rayon             10\n",
              "nylon             10\n",
              "spandex            5\n",
              "milksilk           5\n",
              "cashmere           4\n",
              "microfiber         3\n",
              "acrylic            3\n",
              "lycra              3\n",
              "linen              3\n",
              "viscos             2\n",
              "other              2\n",
              "shiffon            2\n",
              "sill               1\n",
              "wool               1\n",
              "lace               1\n",
              "model              1\n",
              "modal              1\n",
              "knitting           1\n",
              "Name: Material, dtype: int64"
            ]
          },
          "metadata": {
            "tags": []
          },
          "execution_count": 23
        }
      ]
    },
    {
      "cell_type": "code",
      "metadata": {
        "id": "lKdVgT0JVu41"
      },
      "source": [
        "attribute_data.loc[(attribute_data.Material  == 'chiffonfabric'),'Material']= 'chiffon'\n",
        "attribute_data.loc[(attribute_data.Material  == 'shiffon'),'Material']= 'chiffon'\n",
        "attribute_data.loc[(attribute_data.Material  == 'sill'),'Material']= 'silk'\n",
        "attribute_data.loc[(attribute_data.Material  == 'model'),'Material']= 'modal'"
      ],
      "execution_count": null,
      "outputs": []
    },
    {
      "cell_type": "code",
      "metadata": {
        "id": "rn-XoOiEXf0l"
      },
      "source": [
        "def maxType(x):\n",
        "  if (x.isnull().sum()!=len(x)):\n",
        "      return x.value_counts().index[0]\n",
        "  else:\n",
        "      return 'n'"
      ],
      "execution_count": null,
      "outputs": []
    },
    {
      "cell_type": "code",
      "metadata": {
        "id": "1jtv7HK9oNOS"
      },
      "source": [
        "attribute_data['Material']= attribute_data.groupby(['Season','Style'])['Material'].transform(lambda x: x.fillna(maxType(x)))\n",
        "attribute_data.loc[(attribute_data.Material  == 'n'),'Material']= np.NaN\n",
        "attribute_data['Material'] = attribute_data.groupby(['Season'])['Material'].transform(lambda x: x.fillna(maxType(x)))\n",
        "attribute_data['waiseline']= attribute_data.groupby(['Season','Style','Material'])['waiseline'].transform(lambda x: x.fillna(maxType(x)))\n",
        "attribute_data.loc[(attribute_data.Material  == 'n'),'waiseline']= np.NaN\n",
        "attribute_data['waiseline'] = attribute_data.groupby(['Season'])['waiseline'].transform(lambda x: x.fillna(maxType(x)))\n"
      ],
      "execution_count": null,
      "outputs": []
    },
    {
      "cell_type": "code",
      "metadata": {
        "id": "Q5yl7HoNptEl",
        "colab": {
          "base_uri": "https://localhost:8080/"
        },
        "outputId": "820c4536-f8e2-4623-ab2d-fc1aad0a7ab9"
      },
      "source": [
        "attribute_data['PatternType'].value_counts()"
      ],
      "execution_count": null,
      "outputs": [
        {
          "output_type": "execute_result",
          "data": {
            "text/plain": [
              "solid        203\n",
              "print         71\n",
              "patchwork     48\n",
              "animal        21\n",
              "striped       17\n",
              "dot           14\n",
              "geometric      5\n",
              "leopard        3\n",
              "plaid          3\n",
              "floral         2\n",
              "character      1\n",
              "none           1\n",
              "splice         1\n",
              "leapord        1\n",
              "Name: PatternType, dtype: int64"
            ]
          },
          "metadata": {
            "tags": []
          },
          "execution_count": 27
        }
      ]
    },
    {
      "cell_type": "code",
      "metadata": {
        "id": "F1U4rKK_p8QG"
      },
      "source": [
        "attribute_data.loc[(attribute_data.PatternType  == 'none'),'PatternType']= 'solid'\n",
        "attribute_data.loc[(attribute_data.PatternType  == 'leapord'),'PatternType']= 'leopard'"
      ],
      "execution_count": null,
      "outputs": []
    },
    {
      "cell_type": "code",
      "metadata": {
        "id": "1Lbw6V8DqbGk"
      },
      "source": [
        "attribute_data['PatternType']= attribute_data.groupby(['Season','Style','Material','waiseline'])['PatternType'].transform(lambda x: x.fillna(maxType(x)))\n",
        "attribute_data.loc[(attribute_data.PatternType  == 'n'),'PatternType']= np.NaN\n",
        "attribute_data['PatternType'] = attribute_data.groupby(['Season','Style'])['PatternType'].transform(lambda x: x.fillna(maxType(x)))"
      ],
      "execution_count": null,
      "outputs": []
    },
    {
      "cell_type": "code",
      "metadata": {
        "id": "XhZXMBlvrUGY",
        "colab": {
          "base_uri": "https://localhost:8080/"
        },
        "outputId": "1f7c57f5-96f9-40a0-fd7d-a05db78c1216"
      },
      "source": [
        "attribute_data['Size'].value_counts()"
      ],
      "execution_count": null,
      "outputs": [
        {
          "output_type": "execute_result",
          "data": {
            "text/plain": [
              "M        177\n",
              "free     173\n",
              "L         96\n",
              "S         37\n",
              "XL        15\n",
              "small      1\n",
              "s          1\n",
              "Name: Size, dtype: int64"
            ]
          },
          "metadata": {
            "tags": []
          },
          "execution_count": 30
        }
      ]
    },
    {
      "cell_type": "code",
      "metadata": {
        "id": "-wrzQLcLrdeJ"
      },
      "source": [
        "attribute_data.loc[(attribute_data.Size  == 's'),'Size']= 'S'\n",
        "attribute_data.loc[(attribute_data.Size  == 'small'),'Size']= 'S'"
      ],
      "execution_count": null,
      "outputs": []
    },
    {
      "cell_type": "markdown",
      "metadata": {
        "id": "Yy9Gt2_yr8qm"
      },
      "source": [
        "**Data Visualizing**\n",
        "\n",
        "\n"
      ]
    },
    {
      "cell_type": "code",
      "metadata": {
        "id": "QZvIS5vJsFnQ",
        "colab": {
          "base_uri": "https://localhost:8080/",
          "height": 297
        },
        "outputId": "bf805d13-70c7-43c9-b498-2e5bd6d38a32"
      },
      "source": [
        "sns.countplot(x='Recommendation',data=attribute_data)"
      ],
      "execution_count": null,
      "outputs": [
        {
          "output_type": "execute_result",
          "data": {
            "text/plain": [
              "<matplotlib.axes._subplots.AxesSubplot at 0x7f1e636a1cd0>"
            ]
          },
          "metadata": {
            "tags": []
          },
          "execution_count": 32
        },
        {
          "output_type": "display_data",
          "data": {
            "image/png": "[encoded data removed]",
            "text/plain": [
              "<Figure size 432x288 with 1 Axes>"
            ]
          },
          "metadata": {
            "tags": [],
            "needs_background": "light"
          }
        }
      ]
    },
    {
      "cell_type": "code",
      "metadata": {
        "id": "xurf8CvVXXVa",
        "colab": {
          "base_uri": "https://localhost:8080/",
          "height": 606
        },
        "outputId": "ce5e6ba2-1c6d-4c3c-9673-c89b853d3ac5"
      },
      "source": [
        "plt.figure(figsize=(15,10))\n",
        "counts=sns.countplot(x='Style',data=attribute_data,hue='Recommendation')"
      ],
      "execution_count": null,
      "outputs": [
        {
          "output_type": "display_data",
          "data": {
            "image/png": "[encoded data removed]",
            "text/plain": [
              "<Figure size 1080x720 with 1 Axes>"
            ]
          },
          "metadata": {
            "tags": [],
            "needs_background": "light"
          }
        }
      ]
    },
    {
      "cell_type": "code",
      "metadata": {
        "id": "OzarNLcEXvkU",
        "colab": {
          "base_uri": "https://localhost:8080/",
          "height": 279
        },
        "outputId": "5bf4236e-f8ac-48ee-bfbd-172cf44e0605"
      },
      "source": [
        "counts=sns.countplot(x='Price',data=attribute_data,hue='Recommendation')"
      ],
      "execution_count": null,
      "outputs": [
        {
          "output_type": "display_data",
          "data": {
            "image/png": "[encoded data removed]",
            "text/plain": [
              "<Figure size 432x288 with 1 Axes>"
            ]
          },
          "metadata": {
            "tags": [],
            "needs_background": "light"
          }
        }
      ]
    },
    {
      "cell_type": "code",
      "metadata": {
        "id": "b8V5dUZ0X-Sw",
        "colab": {
          "base_uri": "https://localhost:8080/",
          "height": 606
        },
        "outputId": "72be3859-a818-4d25-ad57-296ef1a25d97"
      },
      "source": [
        "plt.figure(figsize=(15,10))\n",
        "counts=sns.countplot(x='PatternType',data=attribute_data,hue='Recommendation')"
      ],
      "execution_count": null,
      "outputs": [
        {
          "output_type": "display_data",
          "data": {
            "image/png": "[encoded data removed]",
            "text/plain": [
              "<Figure size 1080x720 with 1 Axes>"
            ]
          },
          "metadata": {
            "tags": [],
            "needs_background": "light"
          }
        }
      ]
    },
    {
      "cell_type": "code",
      "metadata": {
        "id": "2vu4rqU0YYUj",
        "colab": {
          "base_uri": "https://localhost:8080/",
          "height": 279
        },
        "outputId": "64d3627d-8a0a-4713-cfb6-cce0a6ab22f5"
      },
      "source": [
        "counts=sns.countplot(x='Size',data=attribute_data,hue='Recommendation')"
      ],
      "execution_count": null,
      "outputs": [
        {
          "output_type": "display_data",
          "data": {
            "image/png": "[encoded data removed]",
            "text/plain": [
              "<Figure size 432x288 with 1 Axes>"
            ]
          },
          "metadata": {
            "tags": [],
            "needs_background": "light"
          }
        }
      ]
    },
    {
      "cell_type": "code",
      "metadata": {
        "id": "z-l9i4HWYqTo",
        "colab": {
          "base_uri": "https://localhost:8080/",
          "height": 279
        },
        "outputId": "ddc5d281-7dbe-445c-fe1b-09de7cd0331b"
      },
      "source": [
        "counts=sns.countplot(x='Season',data=attribute_data,hue='Recommendation')"
      ],
      "execution_count": null,
      "outputs": [
        {
          "output_type": "display_data",
          "data": {
            "image/png": "[encoded data removed]",
            "text/plain": [
              "<Figure size 432x288 with 1 Axes>"
            ]
          },
          "metadata": {
            "tags": [],
            "needs_background": "light"
          }
        }
      ]
    },
    {
      "cell_type": "code",
      "metadata": {
        "id": "-ke6a1-UY637",
        "colab": {
          "base_uri": "https://localhost:8080/",
          "height": 606
        },
        "outputId": "ba9de55d-08a3-4cff-dfbd-21664d4df740"
      },
      "source": [
        "plt.figure(figsize=(20,10))\n",
        "counts=sns.countplot(x='NeckLine',data=attribute_data,hue='Recommendation')"
      ],
      "execution_count": null,
      "outputs": [
        {
          "output_type": "display_data",
          "data": {
            "image/png": "[encoded data removed]",
            "text/plain": [
              "<Figure size 1440x720 with 1 Axes>"
            ]
          },
          "metadata": {
            "tags": [],
            "needs_background": "light"
          }
        }
      ]
    },
    {
      "cell_type": "code",
      "metadata": {
        "id": "TR9OYwOqZQhb",
        "colab": {
          "base_uri": "https://localhost:8080/",
          "height": 279
        },
        "outputId": "32160ce6-434b-46b9-b208-76285c151386"
      },
      "source": [
        "counts=sns.countplot(x='waiseline',data=attribute_data,hue='Recommendation')"
      ],
      "execution_count": null,
      "outputs": [
        {
          "output_type": "display_data",
          "data": {
            "image/png": "[encoded data removed]",
            "text/plain": [
              "<Figure size 432x288 with 1 Axes>"
            ]
          },
          "metadata": {
            "tags": [],
            "needs_background": "light"
          }
        }
      ]
    },
    {
      "cell_type": "code",
      "metadata": {
        "id": "BKtAcOK3Zm7w",
        "colab": {
          "base_uri": "https://localhost:8080/",
          "height": 279
        },
        "outputId": "26e7d2a4-6ccd-4d9c-e654-fb868b629622"
      },
      "source": [
        "counts=sns.countplot(x='Rating',data=attribute_data,hue='Recommendation')"
      ],
      "execution_count": null,
      "outputs": [
        {
          "output_type": "display_data",
          "data": {
            "image/png": "[encoded data removed]",
            "text/plain": [
              "<Figure size 432x288 with 1 Axes>"
            ]
          },
          "metadata": {
            "tags": [],
            "needs_background": "light"
          }
        }
      ]
    },
    {
      "cell_type": "code",
      "metadata": {
        "id": "lxw4IfaNZ0wR",
        "colab": {
          "base_uri": "https://localhost:8080/",
          "height": 606
        },
        "outputId": "8a95446b-79bb-4cc2-d85c-0e7ae59dad18"
      },
      "source": [
        "plt.figure(figsize=(15,10))\n",
        "counts=sns.countplot(x='SleeveLength',data=attribute_data,hue='Recommendation')"
      ],
      "execution_count": null,
      "outputs": [
        {
          "output_type": "display_data",
          "data": {
            "image/png": "[encoded data removed]",
            "text/plain": [
              "<Figure size 1080x720 with 1 Axes>"
            ]
          },
          "metadata": {
            "tags": [],
            "needs_background": "light"
          }
        }
      ]
    },
    {
      "cell_type": "markdown",
      "metadata": {
        "id": "RkR_UeKYaLxQ"
      },
      "source": [
        "**Feature Engineering**"
      ]
    },
    {
      "cell_type": "code",
      "metadata": {
        "id": "34gQ6lxlaQ-S"
      },
      "source": [
        "data1=attribute_data.copy()\n",
        "\n",
        "data1=pd.get_dummies(data1, prefix=['Style', 'Price', 'PatternType', 'Size', 'Season', 'NeckLine',\n",
        "                                    'SleeveLength', 'waiseline', 'Material'])"
      ],
      "execution_count": null,
      "outputs": []
    },
    {
      "cell_type": "code",
      "metadata": {
        "id": "xtI_Dsr-bEZf"
      },
      "source": [
        "data2=attribute_data.copy()\n",
        "popStyles=['cute','bohemian','flare','party','sexy','brief','vintage','novelty']\n",
        "data2.loc[data2['Style'].isin(popStyles),'updStyle']= 1\n",
        "data2.loc[~data2['Style'].isin(popStyles),'updStyle']= 0\n",
        "\n",
        "data2.loc[data2['Price']=='low','updPrice']= 1\n",
        "data2.loc[data2['Price']=='average','updPrice']= 2\n",
        "data2.loc[data2['Price'].isin(['high','very-high']),'updPrice']= 3\n",
        "\n",
        "data2.loc[data2['Season']=='spring','updSeason']= 1\n",
        "data2.loc[data2['Season']!='spring','updSeason']= 0\n",
        "\n",
        "data2.loc[data2['NeckLine'].isin(['v-neck','boat-neck','sweetheart','halter', 'open','slash-neck']),'updNeckLine']= 1\n",
        "data2.loc[~data2['NeckLine'].isin(['v-neck','boat-neck','sweetheart','halter', 'open','slash-neck']),'updNeckLine']= 0\n",
        "\n",
        "data2.loc[data2['SleeveLength'].isin(['full','short','threequarter']),'updSleeveLength']= 1\n",
        "data2.loc[~data2['SleeveLength'].isin(['full','short','threequarter']),'updSleeveLength']= 0\n",
        "data2=data2.drop(['Price','Season','Style','NeckLine','SleeveLength','Size'],axis=1)\n",
        "data2=pd.get_dummies(data2,['PatternType','waiseline', 'Material'])"
      ],
      "execution_count": null,
      "outputs": []
    },
    {
      "cell_type": "code",
      "metadata": {
        "id": "d2rLlweIb-l0",
        "colab": {
          "base_uri": "https://localhost:8080/"
        },
        "outputId": "85628ba5-455b-4aca-f95f-df3d788303ce"
      },
      "source": [
        "data2.columns"
      ],
      "execution_count": null,
      "outputs": [
        {
          "output_type": "execute_result",
          "data": {
            "text/plain": [
              "Index(['Rating', 'Recommendation', 'updStyle', 'updPrice', 'updSeason',\n",
              "       'updNeckLine', 'updSleeveLength', 'PatternType_animal',\n",
              "       'PatternType_character', 'PatternType_dot', 'PatternType_floral',\n",
              "       'PatternType_geometric', 'PatternType_leopard', 'PatternType_patchwork',\n",
              "       'PatternType_plaid', 'PatternType_print', 'PatternType_solid',\n",
              "       'PatternType_splice', 'PatternType_striped', 'waiseline_dropped',\n",
              "       'waiseline_empire', 'waiseline_n', 'waiseline_natural',\n",
              "       'waiseline_princess', 'Material_acrylic', 'Material_cashmere',\n",
              "       'Material_chiffon', 'Material_cotton', 'Material_knitting',\n",
              "       'Material_lace', 'Material_linen', 'Material_lycra',\n",
              "       'Material_microfiber', 'Material_milksilk', 'Material_mix',\n",
              "       'Material_modal', 'Material_nylon', 'Material_other',\n",
              "       'Material_polyster', 'Material_rayon', 'Material_silk',\n",
              "       'Material_spandex', 'Material_viscos', 'Material_wool'],\n",
              "      dtype='object')"
            ]
          },
          "metadata": {
            "tags": []
          },
          "execution_count": 44
        }
      ]
    },
    {
      "cell_type": "code",
      "metadata": {
        "id": "cHrF8c0ycIqv"
      },
      "source": [
        "data=attribute_data.copy()\n",
        "popStyles=['cute','bohemian','flare','party','sexy','brief','vintage','novelty']\n",
        "data.loc[data['Style'].isin(popStyles),'updStyle']= 1\n",
        "data.loc[~data['Style'].isin(popStyles),'updStyle']= 0\n",
        "\n",
        "data.loc[data['Price']=='low','updPrice']= 1\n",
        "data.loc[data['Price']=='average','updPrice']= 2\n",
        "data.loc[data['Price'].isin(['high','very-high']),'updPrice']= 3\n",
        "\n",
        "data.loc[data['Season']=='spring','updSeason']= 1\n",
        "data.loc[data['Season']!='spring','updSeason']= 0\n",
        "\n",
        "data.loc[data['NeckLine'].isin(['v-neck','boat-neck','sweetheart','halter', 'open','slash-neck']),'updNeckLine']= 1\n",
        "data.loc[~data['NeckLine'].isin(['v-neck','boat-neck','sweetheart','halter', 'open','slash-neck']),'updNeckLine']= 0\n",
        "\n",
        "data.loc[data['SleeveLength'].isin(['full','short','threequarter']),'updSleeveLength']= 1\n",
        "data.loc[~data['SleeveLength'].isin(['full','short','threequarter']),'updSleeveLength']= 0\n",
        "data=data.drop(['Price','Season','Style','NeckLine','SleeveLength'],axis=1)\n",
        "\n"
      ],
      "execution_count": null,
      "outputs": []
    },
    {
      "cell_type": "code",
      "metadata": {
        "id": "V-clMMwVfv46",
        "colab": {
          "base_uri": "https://localhost:8080/",
          "height": 254
        },
        "outputId": "bfdeaa19-8e6e-40f0-9ca7-9e05356e37fa"
      },
      "source": [
        "data.corr()"
      ],
      "execution_count": null,
      "outputs": [
        {
          "output_type": "execute_result",
          "data": {
            "text/html": [
              "<div>\n",
              "<style scoped>\n",
              "    .dataframe tbody tr th:only-of-type {\n",
              "        vertical-align: middle;\n",
              "    }\n",
              "\n",
              "    .dataframe tbody tr th {\n",
              "        vertical-align: top;\n",
              "    }\n",
              "\n",
              "    .dataframe thead th {\n",
              "        text-align: right;\n",
              "    }\n",
              "</style>\n",
              "<table border=\"1\" class=\"dataframe\">\n",
              "  <thead>\n",
              "    <tr style=\"text-align: right;\">\n",
              "      <th></th>\n",
              "      <th>Rating</th>\n",
              "      <th>Recommendation</th>\n",
              "      <th>updStyle</th>\n",
              "      <th>updPrice</th>\n",
              "      <th>updSeason</th>\n",
              "      <th>updNeckLine</th>\n",
              "      <th>updSleeveLength</th>\n",
              "    </tr>\n",
              "  </thead>\n",
              "  <tbody>\n",
              "    <tr>\n",
              "      <th>Rating</th>\n",
              "      <td>1.000000</td>\n",
              "      <td>0.040847</td>\n",
              "      <td>-0.029194</td>\n",
              "      <td>-0.097399</td>\n",
              "      <td>-0.039638</td>\n",
              "      <td>-0.096659</td>\n",
              "      <td>-0.066357</td>\n",
              "    </tr>\n",
              "    <tr>\n",
              "      <th>Recommendation</th>\n",
              "      <td>0.040847</td>\n",
              "      <td>1.000000</td>\n",
              "      <td>0.108762</td>\n",
              "      <td>0.056819</td>\n",
              "      <td>0.215066</td>\n",
              "      <td>0.146222</td>\n",
              "      <td>-0.050903</td>\n",
              "    </tr>\n",
              "    <tr>\n",
              "      <th>updStyle</th>\n",
              "      <td>-0.029194</td>\n",
              "      <td>0.108762</td>\n",
              "      <td>1.000000</td>\n",
              "      <td>0.144446</td>\n",
              "      <td>0.048610</td>\n",
              "      <td>0.106428</td>\n",
              "      <td>-0.110059</td>\n",
              "    </tr>\n",
              "    <tr>\n",
              "      <th>updPrice</th>\n",
              "      <td>-0.097399</td>\n",
              "      <td>0.056819</td>\n",
              "      <td>0.144446</td>\n",
              "      <td>1.000000</td>\n",
              "      <td>0.059522</td>\n",
              "      <td>0.181070</td>\n",
              "      <td>-0.030699</td>\n",
              "    </tr>\n",
              "    <tr>\n",
              "      <th>updSeason</th>\n",
              "      <td>-0.039638</td>\n",
              "      <td>0.215066</td>\n",
              "      <td>0.048610</td>\n",
              "      <td>0.059522</td>\n",
              "      <td>1.000000</td>\n",
              "      <td>0.063400</td>\n",
              "      <td>-0.057051</td>\n",
              "    </tr>\n",
              "    <tr>\n",
              "      <th>updNeckLine</th>\n",
              "      <td>-0.096659</td>\n",
              "      <td>0.146222</td>\n",
              "      <td>0.106428</td>\n",
              "      <td>0.181070</td>\n",
              "      <td>0.063400</td>\n",
              "      <td>1.000000</td>\n",
              "      <td>-0.079894</td>\n",
              "    </tr>\n",
              "    <tr>\n",
              "      <th>updSleeveLength</th>\n",
              "      <td>-0.066357</td>\n",
              "      <td>-0.050903</td>\n",
              "      <td>-0.110059</td>\n",
              "      <td>-0.030699</td>\n",
              "      <td>-0.057051</td>\n",
              "      <td>-0.079894</td>\n",
              "      <td>1.000000</td>\n",
              "    </tr>\n",
              "  </tbody>\n",
              "</table>\n",
              "</div>"
            ],
            "text/plain": [
              "                   Rating  Recommendation  ...  updNeckLine  updSleeveLength\n",
              "Rating           1.000000        0.040847  ...    -0.096659        -0.066357\n",
              "Recommendation   0.040847        1.000000  ...     0.146222        -0.050903\n",
              "updStyle        -0.029194        0.108762  ...     0.106428        -0.110059\n",
              "updPrice        -0.097399        0.056819  ...     0.181070        -0.030699\n",
              "updSeason       -0.039638        0.215066  ...     0.063400        -0.057051\n",
              "updNeckLine     -0.096659        0.146222  ...     1.000000        -0.079894\n",
              "updSleeveLength -0.066357       -0.050903  ...    -0.079894         1.000000\n",
              "\n",
              "[7 rows x 7 columns]"
            ]
          },
          "metadata": {
            "tags": []
          },
          "execution_count": 46
        }
      ]
    },
    {
      "cell_type": "code",
      "metadata": {
        "id": "FujeHYZ5fy05",
        "colab": {
          "base_uri": "https://localhost:8080/"
        },
        "outputId": "dccb460f-fd5c-45da-d82a-369d9fcdf36c"
      },
      "source": [
        "data.columns"
      ],
      "execution_count": null,
      "outputs": [
        {
          "output_type": "execute_result",
          "data": {
            "text/plain": [
              "Index(['PatternType', 'Size', 'waiseline', 'Material', 'Rating',\n",
              "       'Recommendation', 'updStyle', 'updPrice', 'updSeason', 'updNeckLine',\n",
              "       'updSleeveLength'],\n",
              "      dtype='object')"
            ]
          },
          "metadata": {
            "tags": []
          },
          "execution_count": 47
        }
      ]
    },
    {
      "cell_type": "code",
      "metadata": {
        "id": "3mD7Zftif6Re"
      },
      "source": [
        "data=pd.get_dummies(data,['PatternType','Size','waiseline','Material'])"
      ],
      "execution_count": null,
      "outputs": []
    },
    {
      "cell_type": "code",
      "metadata": {
        "id": "EUT4dqzE79JZ"
      },
      "source": [
        ""
      ],
      "execution_count": null,
      "outputs": []
    },
    {
      "cell_type": "markdown",
      "metadata": {
        "id": "0pFKgx_RgHxm"
      },
      "source": [
        "**Model Training**"
      ]
    },
    {
      "cell_type": "code",
      "metadata": {
        "id": "1wlL4PeYgMMM"
      },
      "source": [
        "y=data['Recommendation']\n",
        "x=data.copy()\n",
        "x=x.drop(['Recommendation'],axis=1)\n",
        "\n",
        "from sklearn.model_selection import train_test_split\n",
        "x_train, x_test, y_train, y_test = train_test_split(x,y,stratify=y,test_size=0.3, random_state=0)"
      ],
      "execution_count": null,
      "outputs": []
    },
    {
      "cell_type": "code",
      "metadata": {
        "id": "-EQvVX3EhAud",
        "colab": {
          "base_uri": "https://localhost:8080/"
        },
        "outputId": "aa64a6a7-fc33-4068-9780-03cc465543c8"
      },
      "source": [
        "from sklearn.linear_model import LogisticRegression\n",
        "from sklearn.metrics import classification_report\n",
        "model = LogisticRegression(solver='liblinear', random_state=0)\n",
        "model.fit(x_train, y_train)\n",
        "model.predict(x_test)\n",
        "print(classification_report(y_test, model.predict(x_test)))"
      ],
      "execution_count": null,
      "outputs": [
        {
          "output_type": "stream",
          "text": [
            "              precision    recall  f1-score   support\n",
            "\n",
            "           0       0.65      0.82      0.72        87\n",
            "           1       0.61      0.40      0.48        63\n",
            "\n",
            "    accuracy                           0.64       150\n",
            "   macro avg       0.63      0.61      0.60       150\n",
            "weighted avg       0.63      0.64      0.62       150\n",
            "\n"
          ],
          "name": "stdout"
        }
      ]
    },
    {
      "cell_type": "code",
      "metadata": {
        "id": "k-FTgVOqh9M4",
        "colab": {
          "base_uri": "https://localhost:8080/"
        },
        "outputId": "a41150e3-0952-48ec-9602-e3368c5084fb"
      },
      "source": [
        "print(classification_report(y_train, model.predict(x_train)))"
      ],
      "execution_count": null,
      "outputs": [
        {
          "output_type": "stream",
          "text": [
            "              precision    recall  f1-score   support\n",
            "\n",
            "           0       0.66      0.84      0.74       203\n",
            "           1       0.64      0.39      0.48       147\n",
            "\n",
            "    accuracy                           0.65       350\n",
            "   macro avg       0.65      0.62      0.61       350\n",
            "weighted avg       0.65      0.65      0.63       350\n",
            "\n"
          ],
          "name": "stdout"
        }
      ]
    },
    {
      "cell_type": "code",
      "metadata": {
        "id": "wB9nPq64i1H-",
        "colab": {
          "base_uri": "https://localhost:8080/"
        },
        "outputId": "bfc9d4f7-d2d3-4b00-cb20-716be17bc00b"
      },
      "source": [
        "from sklearn.ensemble import RandomForestClassifier\n",
        " \n",
        "# create the model with 500 trees\n",
        "model = RandomForestClassifier(n_estimators=500,\n",
        "                               bootstrap = True,\n",
        "                               max_features = 'log2')\n",
        "# Fit on training data\n",
        "model.fit(x_train, y_train)"
      ],
      "execution_count": null,
      "outputs": [
        {
          "output_type": "execute_result",
          "data": {
            "text/plain": [
              "RandomForestClassifier(bootstrap=True, ccp_alpha=0.0, class_weight=None,\n",
              "                       criterion='gini', max_depth=None, max_features='log2',\n",
              "                       max_leaf_nodes=None, max_samples=None,\n",
              "                       min_impurity_decrease=0.0, min_impurity_split=None,\n",
              "                       min_samples_leaf=1, min_samples_split=2,\n",
              "                       min_weight_fraction_leaf=0.0, n_estimators=500,\n",
              "                       n_jobs=None, oob_score=False, random_state=None,\n",
              "                       verbose=0, warm_start=False)"
            ]
          },
          "metadata": {
            "tags": []
          },
          "execution_count": 52
        }
      ]
    },
    {
      "cell_type": "code",
      "metadata": {
        "id": "VWl_uMecjagh",
        "colab": {
          "base_uri": "https://localhost:8080/"
        },
        "outputId": "3eb2d28d-81c9-4cd5-ef1d-dd789d8ec2e3"
      },
      "source": [
        "from sklearn.metrics import classification_report, confusion_matrix\n",
        "preds_train = model.predict(x_train)\n",
        "print(classification_report(y_train,preds_train))\n",
        "print('\\n')\n",
        "print(confusion_matrix(y_train,preds_train))"
      ],
      "execution_count": null,
      "outputs": [
        {
          "output_type": "stream",
          "text": [
            "              precision    recall  f1-score   support\n",
            "\n",
            "           0       1.00      0.99      0.99       203\n",
            "           1       0.98      0.99      0.99       147\n",
            "\n",
            "    accuracy                           0.99       350\n",
            "   macro avg       0.99      0.99      0.99       350\n",
            "weighted avg       0.99      0.99      0.99       350\n",
            "\n",
            "\n",
            "\n",
            "[[200   3]\n",
            " [  1 146]]\n"
          ],
          "name": "stdout"
        }
      ]
    },
    {
      "cell_type": "code",
      "metadata": {
        "id": "lG6jLIejCOmJ",
        "colab": {
          "base_uri": "https://localhost:8080/"
        },
        "outputId": "32fc1271-183c-4dff-a76e-b5cf7ac2d7ac"
      },
      "source": [
        "preds_test = model.predict(x_test)\n",
        "print(classification_report(y_test,preds_test))\n",
        "print('\\n')\n",
        "print(confusion_matrix(y_test,preds_test))"
      ],
      "execution_count": null,
      "outputs": [
        {
          "output_type": "stream",
          "text": [
            "              precision    recall  f1-score   support\n",
            "\n",
            "           0       0.63      0.57      0.60        87\n",
            "           1       0.48      0.54      0.51        63\n",
            "\n",
            "    accuracy                           0.56       150\n",
            "   macro avg       0.56      0.56      0.55       150\n",
            "weighted avg       0.57      0.56      0.56       150\n",
            "\n",
            "\n",
            "\n",
            "[[50 37]\n",
            " [29 34]]\n"
          ],
          "name": "stdout"
        }
      ]
    },
    {
      "cell_type": "code",
      "metadata": {
        "id": "sd3Eayg4qJsB",
        "colab": {
          "base_uri": "https://localhost:8080/"
        },
        "outputId": "97091942-97d8-4842-ae1b-f3eabe59f254"
      },
      "source": [
        "from sklearn.ensemble import AdaBoostClassifier\n",
        "model_ada = AdaBoostClassifier(n_estimators=600,learning_rate = 0.01)\n",
        "model_ada.fit(x_train,y_train)"
      ],
      "execution_count": null,
      "outputs": [
        {
          "output_type": "execute_result",
          "data": {
            "text/plain": [
              "AdaBoostClassifier(algorithm='SAMME.R', base_estimator=None, learning_rate=0.01,\n",
              "                   n_estimators=600, random_state=None)"
            ]
          },
          "metadata": {
            "tags": []
          },
          "execution_count": 55
        }
      ]
    },
    {
      "cell_type": "code",
      "metadata": {
        "id": "jEpowwWqqpAV",
        "colab": {
          "base_uri": "https://localhost:8080/"
        },
        "outputId": "ed658d13-8bcd-42de-bb71-acba665e15cf"
      },
      "source": [
        "preds_train = model_ada.predict(x_train)\n",
        "print(classification_report(y_train,preds_train))\n",
        "print('\\n')\n",
        "print(confusion_matrix(y_train,preds_train))"
      ],
      "execution_count": null,
      "outputs": [
        {
          "output_type": "stream",
          "text": [
            "              precision    recall  f1-score   support\n",
            "\n",
            "           0       0.65      0.85      0.73       203\n",
            "           1       0.63      0.36      0.46       147\n",
            "\n",
            "    accuracy                           0.64       350\n",
            "   macro avg       0.64      0.60      0.60       350\n",
            "weighted avg       0.64      0.64      0.62       350\n",
            "\n",
            "\n",
            "\n",
            "[[172  31]\n",
            " [ 94  53]]\n"
          ],
          "name": "stdout"
        }
      ]
    },
    {
      "cell_type": "code",
      "metadata": {
        "id": "QwJqvGDwsPtW",
        "colab": {
          "base_uri": "https://localhost:8080/"
        },
        "outputId": "f04c4c03-b74d-4fc0-c5ed-108dab36f452"
      },
      "source": [
        "preds_test = model_ada.predict(x_test)\n",
        "print(classification_report(y_test,preds_test))\n",
        "print('\\n')\n",
        "print(confusion_matrix(y_test,preds_test))"
      ],
      "execution_count": null,
      "outputs": [
        {
          "output_type": "stream",
          "text": [
            "              precision    recall  f1-score   support\n",
            "\n",
            "           0       0.64      0.83      0.72        87\n",
            "           1       0.59      0.35      0.44        63\n",
            "\n",
            "    accuracy                           0.63       150\n",
            "   macro avg       0.62      0.59      0.58       150\n",
            "weighted avg       0.62      0.63      0.60       150\n",
            "\n",
            "\n",
            "\n",
            "[[72 15]\n",
            " [41 22]]\n"
          ],
          "name": "stdout"
        }
      ]
    },
    {
      "cell_type": "code",
      "metadata": {
        "id": "KXGrnbbqsl0G",
        "colab": {
          "base_uri": "https://localhost:8080/",
          "height": 639
        },
        "outputId": "1f73f0f2-e1e6-490e-a6e9-5b3965450483"
      },
      "source": [
        "fi = pd.DataFrame({'feature': list(x_train.columns),\n",
        "                   'importance': model_ada.feature_importances_}).\\\n",
        "                   sort_values('importance', ascending = False)\n",
        "\n",
        "fi.head(20)\n",
        "\n",
        "                "
      ],
      "execution_count": null,
      "outputs": [
        {
          "output_type": "execute_result",
          "data": {
            "text/html": [
              "<div>\n",
              "<style scoped>\n",
              "    .dataframe tbody tr th:only-of-type {\n",
              "        vertical-align: middle;\n",
              "    }\n",
              "\n",
              "    .dataframe tbody tr th {\n",
              "        vertical-align: top;\n",
              "    }\n",
              "\n",
              "    .dataframe thead th {\n",
              "        text-align: right;\n",
              "    }\n",
              "</style>\n",
              "<table border=\"1\" class=\"dataframe\">\n",
              "  <thead>\n",
              "    <tr style=\"text-align: right;\">\n",
              "      <th></th>\n",
              "      <th>feature</th>\n",
              "      <th>importance</th>\n",
              "    </tr>\n",
              "  </thead>\n",
              "  <tbody>\n",
              "    <tr>\n",
              "      <th>3</th>\n",
              "      <td>updSeason</td>\n",
              "      <td>0.235000</td>\n",
              "    </tr>\n",
              "    <tr>\n",
              "      <th>0</th>\n",
              "      <td>Rating</td>\n",
              "      <td>0.146667</td>\n",
              "    </tr>\n",
              "    <tr>\n",
              "      <th>4</th>\n",
              "      <td>updNeckLine</td>\n",
              "      <td>0.116667</td>\n",
              "    </tr>\n",
              "    <tr>\n",
              "      <th>43</th>\n",
              "      <td>Material_rayon</td>\n",
              "      <td>0.111667</td>\n",
              "    </tr>\n",
              "    <tr>\n",
              "      <th>2</th>\n",
              "      <td>updPrice</td>\n",
              "      <td>0.078333</td>\n",
              "    </tr>\n",
              "    <tr>\n",
              "      <th>25</th>\n",
              "      <td>waiseline_n</td>\n",
              "      <td>0.068333</td>\n",
              "    </tr>\n",
              "    <tr>\n",
              "      <th>22</th>\n",
              "      <td>Size_free</td>\n",
              "      <td>0.063333</td>\n",
              "    </tr>\n",
              "    <tr>\n",
              "      <th>45</th>\n",
              "      <td>Material_spandex</td>\n",
              "      <td>0.056667</td>\n",
              "    </tr>\n",
              "    <tr>\n",
              "      <th>6</th>\n",
              "      <td>PatternType_animal</td>\n",
              "      <td>0.055000</td>\n",
              "    </tr>\n",
              "    <tr>\n",
              "      <th>15</th>\n",
              "      <td>PatternType_solid</td>\n",
              "      <td>0.031667</td>\n",
              "    </tr>\n",
              "    <tr>\n",
              "      <th>28</th>\n",
              "      <td>Material_acrylic</td>\n",
              "      <td>0.010000</td>\n",
              "    </tr>\n",
              "    <tr>\n",
              "      <th>34</th>\n",
              "      <td>Material_linen</td>\n",
              "      <td>0.008333</td>\n",
              "    </tr>\n",
              "    <tr>\n",
              "      <th>9</th>\n",
              "      <td>PatternType_floral</td>\n",
              "      <td>0.008333</td>\n",
              "    </tr>\n",
              "    <tr>\n",
              "      <th>29</th>\n",
              "      <td>Material_cashmere</td>\n",
              "      <td>0.008333</td>\n",
              "    </tr>\n",
              "    <tr>\n",
              "      <th>47</th>\n",
              "      <td>Material_wool</td>\n",
              "      <td>0.001667</td>\n",
              "    </tr>\n",
              "    <tr>\n",
              "      <th>14</th>\n",
              "      <td>PatternType_print</td>\n",
              "      <td>0.000000</td>\n",
              "    </tr>\n",
              "    <tr>\n",
              "      <th>32</th>\n",
              "      <td>Material_knitting</td>\n",
              "      <td>0.000000</td>\n",
              "    </tr>\n",
              "    <tr>\n",
              "      <th>46</th>\n",
              "      <td>Material_viscos</td>\n",
              "      <td>0.000000</td>\n",
              "    </tr>\n",
              "    <tr>\n",
              "      <th>5</th>\n",
              "      <td>updSleeveLength</td>\n",
              "      <td>0.000000</td>\n",
              "    </tr>\n",
              "    <tr>\n",
              "      <th>44</th>\n",
              "      <td>Material_silk</td>\n",
              "      <td>0.000000</td>\n",
              "    </tr>\n",
              "  </tbody>\n",
              "</table>\n",
              "</div>"
            ],
            "text/plain": [
              "               feature  importance\n",
              "3            updSeason    0.235000\n",
              "0               Rating    0.146667\n",
              "4          updNeckLine    0.116667\n",
              "43      Material_rayon    0.111667\n",
              "2             updPrice    0.078333\n",
              "25         waiseline_n    0.068333\n",
              "22           Size_free    0.063333\n",
              "45    Material_spandex    0.056667\n",
              "6   PatternType_animal    0.055000\n",
              "15   PatternType_solid    0.031667\n",
              "28    Material_acrylic    0.010000\n",
              "34      Material_linen    0.008333\n",
              "9   PatternType_floral    0.008333\n",
              "29   Material_cashmere    0.008333\n",
              "47       Material_wool    0.001667\n",
              "14   PatternType_print    0.000000\n",
              "32   Material_knitting    0.000000\n",
              "46     Material_viscos    0.000000\n",
              "5      updSleeveLength    0.000000\n",
              "44       Material_silk    0.000000"
            ]
          },
          "metadata": {
            "tags": []
          },
          "execution_count": 58
        }
      ]
    },
    {
      "cell_type": "code",
      "metadata": {
        "id": "C5eOGKfbtpbd",
        "colab": {
          "base_uri": "https://localhost:8080/",
          "height": 639
        },
        "outputId": "a5468da0-26ad-4ec8-d23c-7a62b1adf6d4"
      },
      "source": [
        "fi = pd.DataFrame({'feature': list(x_train.columns),\n",
        "                   'importance': model.feature_importances_}).\\\n",
        "                   sort_values('importance', ascending = False)\n",
        "\n",
        "fi.head(20)\n",
        "\n",
        "                "
      ],
      "execution_count": null,
      "outputs": [
        {
          "output_type": "execute_result",
          "data": {
            "text/html": [
              "<div>\n",
              "<style scoped>\n",
              "    .dataframe tbody tr th:only-of-type {\n",
              "        vertical-align: middle;\n",
              "    }\n",
              "\n",
              "    .dataframe tbody tr th {\n",
              "        vertical-align: top;\n",
              "    }\n",
              "\n",
              "    .dataframe thead th {\n",
              "        text-align: right;\n",
              "    }\n",
              "</style>\n",
              "<table border=\"1\" class=\"dataframe\">\n",
              "  <thead>\n",
              "    <tr style=\"text-align: right;\">\n",
              "      <th></th>\n",
              "      <th>feature</th>\n",
              "      <th>importance</th>\n",
              "    </tr>\n",
              "  </thead>\n",
              "  <tbody>\n",
              "    <tr>\n",
              "      <th>0</th>\n",
              "      <td>Rating</td>\n",
              "      <td>0.208591</td>\n",
              "    </tr>\n",
              "    <tr>\n",
              "      <th>2</th>\n",
              "      <td>updPrice</td>\n",
              "      <td>0.074912</td>\n",
              "    </tr>\n",
              "    <tr>\n",
              "      <th>3</th>\n",
              "      <td>updSeason</td>\n",
              "      <td>0.058809</td>\n",
              "    </tr>\n",
              "    <tr>\n",
              "      <th>5</th>\n",
              "      <td>updSleeveLength</td>\n",
              "      <td>0.058626</td>\n",
              "    </tr>\n",
              "    <tr>\n",
              "      <th>4</th>\n",
              "      <td>updNeckLine</td>\n",
              "      <td>0.056936</td>\n",
              "    </tr>\n",
              "    <tr>\n",
              "      <th>1</th>\n",
              "      <td>updStyle</td>\n",
              "      <td>0.052797</td>\n",
              "    </tr>\n",
              "    <tr>\n",
              "      <th>31</th>\n",
              "      <td>Material_cotton</td>\n",
              "      <td>0.042340</td>\n",
              "    </tr>\n",
              "    <tr>\n",
              "      <th>42</th>\n",
              "      <td>Material_polyster</td>\n",
              "      <td>0.037822</td>\n",
              "    </tr>\n",
              "    <tr>\n",
              "      <th>15</th>\n",
              "      <td>PatternType_solid</td>\n",
              "      <td>0.037811</td>\n",
              "    </tr>\n",
              "    <tr>\n",
              "      <th>22</th>\n",
              "      <td>Size_free</td>\n",
              "      <td>0.036207</td>\n",
              "    </tr>\n",
              "    <tr>\n",
              "      <th>19</th>\n",
              "      <td>Size_M</td>\n",
              "      <td>0.033376</td>\n",
              "    </tr>\n",
              "    <tr>\n",
              "      <th>14</th>\n",
              "      <td>PatternType_print</td>\n",
              "      <td>0.030081</td>\n",
              "    </tr>\n",
              "    <tr>\n",
              "      <th>18</th>\n",
              "      <td>Size_L</td>\n",
              "      <td>0.028570</td>\n",
              "    </tr>\n",
              "    <tr>\n",
              "      <th>26</th>\n",
              "      <td>waiseline_natural</td>\n",
              "      <td>0.027834</td>\n",
              "    </tr>\n",
              "    <tr>\n",
              "      <th>24</th>\n",
              "      <td>waiseline_empire</td>\n",
              "      <td>0.026095</td>\n",
              "    </tr>\n",
              "    <tr>\n",
              "      <th>12</th>\n",
              "      <td>PatternType_patchwork</td>\n",
              "      <td>0.024082</td>\n",
              "    </tr>\n",
              "    <tr>\n",
              "      <th>20</th>\n",
              "      <td>Size_S</td>\n",
              "      <td>0.017563</td>\n",
              "    </tr>\n",
              "    <tr>\n",
              "      <th>44</th>\n",
              "      <td>Material_silk</td>\n",
              "      <td>0.016840</td>\n",
              "    </tr>\n",
              "    <tr>\n",
              "      <th>30</th>\n",
              "      <td>Material_chiffon</td>\n",
              "      <td>0.012758</td>\n",
              "    </tr>\n",
              "    <tr>\n",
              "      <th>6</th>\n",
              "      <td>PatternType_animal</td>\n",
              "      <td>0.012746</td>\n",
              "    </tr>\n",
              "  </tbody>\n",
              "</table>\n",
              "</div>"
            ],
            "text/plain": [
              "                  feature  importance\n",
              "0                  Rating    0.208591\n",
              "2                updPrice    0.074912\n",
              "3               updSeason    0.058809\n",
              "5         updSleeveLength    0.058626\n",
              "4             updNeckLine    0.056936\n",
              "1                updStyle    0.052797\n",
              "31        Material_cotton    0.042340\n",
              "42      Material_polyster    0.037822\n",
              "15      PatternType_solid    0.037811\n",
              "22              Size_free    0.036207\n",
              "19                 Size_M    0.033376\n",
              "14      PatternType_print    0.030081\n",
              "18                 Size_L    0.028570\n",
              "26      waiseline_natural    0.027834\n",
              "24       waiseline_empire    0.026095\n",
              "12  PatternType_patchwork    0.024082\n",
              "20                 Size_S    0.017563\n",
              "44          Material_silk    0.016840\n",
              "30       Material_chiffon    0.012758\n",
              "6      PatternType_animal    0.012746"
            ]
          },
          "metadata": {
            "tags": []
          },
          "execution_count": 59
        }
      ]
    },
    {
      "cell_type": "markdown",
      "metadata": {
        "id": "2BzGNhTKuG4J"
      },
      "source": [
        "## XGBoost"
      ]
    },
    {
      "cell_type": "code",
      "metadata": {
        "id": "sdEXTgYyuLH7"
      },
      "source": [
        "from xgboost import XGBClassifier"
      ],
      "execution_count": null,
      "outputs": []
    },
    {
      "cell_type": "code",
      "metadata": {
        "id": "uUrGOMLAuJvi"
      },
      "source": [
        "my_model =  XGBClassifier(learning_rate= 0.05, n_estimators= 1000)\n",
        "x_test = x_test[x_train.columns]\n",
        "my_model.fit(x_train, y_train)\n",
        "\n",
        "preds = my_model.predict(x_test)"
      ],
      "execution_count": null,
      "outputs": []
    },
    {
      "cell_type": "code",
      "metadata": {
        "colab": {
          "base_uri": "https://localhost:8080/"
        },
        "id": "EbeiGFZuNTu2",
        "outputId": "6b061a23-8aa9-4bf0-d41a-72bf82c761e6"
      },
      "source": [
        "Pred_train = my_model.predict(x_train)\n",
        "\n",
        "print(classification_report(y_test,preds))"
      ],
      "execution_count": null,
      "outputs": [
        {
          "output_type": "stream",
          "text": [
            "              precision    recall  f1-score   support\n",
            "\n",
            "           0       0.63      0.64      0.64        87\n",
            "           1       0.49      0.48      0.48        63\n",
            "\n",
            "    accuracy                           0.57       150\n",
            "   macro avg       0.56      0.56      0.56       150\n",
            "weighted avg       0.57      0.57      0.57       150\n",
            "\n"
          ],
          "name": "stdout"
        }
      ]
    },
    {
      "cell_type": "code",
      "metadata": {
        "id": "5iMStFxqvSOK",
        "colab": {
          "base_uri": "https://localhost:8080/"
        },
        "outputId": "c8c9260c-0965-4a3c-cd82-08430b80014f"
      },
      "source": [
        "x_train.dtypes"
      ],
      "execution_count": null,
      "outputs": [
        {
          "output_type": "execute_result",
          "data": {
            "text/plain": [
              "Rating                   float64\n",
              "updStyle                 float64\n",
              "updPrice                 float64\n",
              "updSeason                float64\n",
              "updNeckLine              float64\n",
              "updSleeveLength          float64\n",
              "PatternType_animal         uint8\n",
              "PatternType_character      uint8\n",
              "PatternType_dot            uint8\n",
              "PatternType_floral         uint8\n",
              "PatternType_geometric      uint8\n",
              "PatternType_leopard        uint8\n",
              "PatternType_patchwork      uint8\n",
              "PatternType_plaid          uint8\n",
              "PatternType_print          uint8\n",
              "PatternType_solid          uint8\n",
              "PatternType_splice         uint8\n",
              "PatternType_striped        uint8\n",
              "Size_L                     uint8\n",
              "Size_M                     uint8\n",
              "Size_S                     uint8\n",
              "Size_XL                    uint8\n",
              "Size_free                  uint8\n",
              "waiseline_dropped          uint8\n",
              "waiseline_empire           uint8\n",
              "waiseline_n                uint8\n",
              "waiseline_natural          uint8\n",
              "waiseline_princess         uint8\n",
              "Material_acrylic           uint8\n",
              "Material_cashmere          uint8\n",
              "Material_chiffon           uint8\n",
              "Material_cotton            uint8\n",
              "Material_knitting          uint8\n",
              "Material_lace              uint8\n",
              "Material_linen             uint8\n",
              "Material_lycra             uint8\n",
              "Material_microfiber        uint8\n",
              "Material_milksilk          uint8\n",
              "Material_mix               uint8\n",
              "Material_modal             uint8\n",
              "Material_nylon             uint8\n",
              "Material_other             uint8\n",
              "Material_polyster          uint8\n",
              "Material_rayon             uint8\n",
              "Material_silk              uint8\n",
              "Material_spandex           uint8\n",
              "Material_viscos            uint8\n",
              "Material_wool              uint8\n",
              "dtype: object"
            ]
          },
          "metadata": {
            "tags": []
          },
          "execution_count": 74
        }
      ]
    },
    {
      "cell_type": "code",
      "metadata": {
        "id": "_3TtwBmmuo2p",
        "colab": {
          "base_uri": "https://localhost:8080/",
          "height": 1000
        },
        "outputId": "8374db6b-7f29-4057-a6a4-ffb8fc8547a3"
      },
      "source": [
        "from matplotlib import pyplot\n",
        "from xgboost import plot_importance\n",
        "\n",
        "td_feature_names = x_train.columns\n",
        "\n",
        "# feature importance\n",
        "print(my_model.feature_importances_)\n",
        "# plot\n",
        "f, ax = pyplot.subplots(figsize=(20,10))\n",
        "pyplot.barh(td_feature_names, np.sort(my_model.feature_importances_))\n",
        "ax.legend(fontsize = 14)\n",
        "\n",
        "plot_importance(my_model)\n",
        "pyplot.show()"
      ],
      "execution_count": null,
      "outputs": [
        {
          "output_type": "stream",
          "text": [
            "No handles with labels found to put in legend.\n"
          ],
          "name": "stderr"
        },
        {
          "output_type": "stream",
          "text": [
            "[0.03830945 0.06381713 0.0360069  0.08864065 0.06500152 0.05583025\n",
            " 0.03946006 0.         0.03469001 0.         0.         0.\n",
            " 0.00773523 0.         0.05934654 0.04098582 0.         0.00769435\n",
            " 0.01462463 0.0515     0.01181343 0.015385   0.04383953 0.\n",
            " 0.03278581 0.03074276 0.04652557 0.         0.         0.\n",
            " 0.03843689 0.04045647 0.         0.         0.         0.\n",
            " 0.         0.         0.00654931 0.         0.02060017 0.\n",
            " 0.04591931 0.01611537 0.04718791 0.         0.         0.        ]\n"
          ],
          "name": "stdout"
        },
        {
          "output_type": "display_data",
          "data": {
            "image/png": "[encoded data removed]",
            "text/plain": [
              "<Figure size 1440x720 with 1 Axes>"
            ]
          },
          "metadata": {
            "tags": [],
            "needs_background": "light"
          }
        },
        {
          "output_type": "display_data",
          "data": {
            "image/png": "[encoded data removed]",
            "text/plain": [
              "<Figure size 432x288 with 1 Axes>"
            ]
          },
          "metadata": {
            "tags": [],
            "needs_background": "light"
          }
        }
      ]
    },
    {
      "cell_type": "code",
      "metadata": {
        "id": "ziOUHVd5wSxk",
        "colab": {
          "base_uri": "https://localhost:8080/"
        },
        "outputId": "bdac7919-ad66-435d-c57c-d2d38ab4fe87"
      },
      "source": [
        "from sklearn.metrics import classification_report, confusion_matrix\n",
        "preds_train = my_model.predict(x_test)\n",
        "print(classification_report(y_test,preds_train))\n",
        "print('\\n')\n",
        "print(confusion_matrix(y_test,preds_train))"
      ],
      "execution_count": null,
      "outputs": [
        {
          "output_type": "stream",
          "text": [
            "              precision    recall  f1-score   support\n",
            "\n",
            "           0       0.63      0.64      0.64        87\n",
            "           1       0.49      0.48      0.48        63\n",
            "\n",
            "    accuracy                           0.57       150\n",
            "   macro avg       0.56      0.56      0.56       150\n",
            "weighted avg       0.57      0.57      0.57       150\n",
            "\n",
            "\n",
            "\n",
            "[[56 31]\n",
            " [33 30]]\n"
          ],
          "name": "stdout"
        }
      ]
    },
    {
      "cell_type": "code",
      "metadata": {
        "id": "9Om3GTnjMLLd",
        "colab": {
          "base_uri": "https://localhost:8080/"
        },
        "outputId": "067cb979-0540-4900-cbed-0d3777ece21f"
      },
      "source": [
        "from sklearn.metrics import precision_score, recall_score, accuracy_score,f1_score\n",
        "\n",
        "print(f1_score(preds_train, y_test, average='macro'))\n",
        "print(\"Precision = {}\".format(precision_score(y_test, preds_train, average='macro')))\n",
        "print(\"Recall = {}\".format(recall_score(y_test, preds_train, average='macro')))\n",
        "print(\"Accuracy = {}\".format(accuracy_score(y_test, preds_train)))"
      ],
      "execution_count": null,
      "outputs": [
        {
          "output_type": "stream",
          "text": [
            "0.5601173020527859\n",
            "Precision = 0.5605083809172959\n",
            "Recall = 0.5599343185550082\n",
            "Accuracy = 0.5733333333333334\n"
          ],
          "name": "stdout"
        }
      ]
    },
    {
      "cell_type": "code",
      "metadata": {
        "id": "kkeYgT2-wqHS"
      },
      "source": [
        "unwanted = ['PatternType_character','PatternType_floral', 'PatternType_geometric','PatternType_leopard', 'PatternType_plaid',\n",
        "       'PatternType_splice','waiseline_dropped','waiseline_princess']\n",
        "\n",
        "x_2=data2.copy()\n",
        "x_2=x_2.drop(['Recommendation'],axis=1)\n",
        "\n",
        "for i in unwanted:\n",
        "  x_2.drop(i,axis=1)     \n",
        "\n",
        "from sklearn.model_selection import train_test_split\n",
        "x_train_2, x_test_2, y_train_2, y_test_2 = train_test_split(x_2,y,stratify=y,test_size=0.2,random_state =0)   "
      ],
      "execution_count": null,
      "outputs": []
    },
    {
      "cell_type": "code",
      "metadata": {
        "id": "bPCo3UYAyqCW"
      },
      "source": [
        "my_model_2 =  XGBClassifier(learning_rate= 0.05, n_estimators= 1000)\n",
        "my_model_2.fit(x_train_2, y_train_2)\n",
        "\n",
        "preds = my_model_2.predict(x_test_2)"
      ],
      "execution_count": null,
      "outputs": []
    },
    {
      "cell_type": "code",
      "metadata": {
        "id": "OA-SEJjc0Lj-",
        "colab": {
          "base_uri": "https://localhost:8080/",
          "height": 295
        },
        "outputId": "3a666712-5c37-47c0-8109-8922635a11d8"
      },
      "source": [
        "td_feature_names = x_train_2.columns\n",
        "\n",
        "plot_importance(my_model_2)\n",
        "pyplot.show()"
      ],
      "execution_count": null,
      "outputs": [
        {
          "output_type": "display_data",
          "data": {
            "image/png": "[encoded data removed]",
            "text/plain": [
              "<Figure size 432x288 with 1 Axes>"
            ]
          },
          "metadata": {
            "tags": [],
            "needs_background": "light"
          }
        }
      ]
    },
    {
      "cell_type": "code",
      "metadata": {
        "id": "UhuALw6J0Zcl",
        "colab": {
          "base_uri": "https://localhost:8080/"
        },
        "outputId": "bf896dbc-3842-42c4-ca9f-025b42951c2c"
      },
      "source": [
        "preds_train = my_model_2.predict(x_test_2)\n",
        "print(classification_report(y_test_2,preds_train))\n",
        "print('\\n')\n",
        "print(confusion_matrix(y_test_2,preds_train))"
      ],
      "execution_count": null,
      "outputs": [
        {
          "output_type": "stream",
          "text": [
            "              precision    recall  f1-score   support\n",
            "\n",
            "           0       0.61      0.64      0.62        58\n",
            "           1       0.46      0.43      0.44        42\n",
            "\n",
            "    accuracy                           0.55       100\n",
            "   macro avg       0.53      0.53      0.53       100\n",
            "weighted avg       0.55      0.55      0.55       100\n",
            "\n",
            "\n",
            "\n",
            "[[37 21]\n",
            " [24 18]]\n"
          ],
          "name": "stdout"
        }
      ]
    },
    {
      "cell_type": "code",
      "metadata": {
        "id": "4t4XDJFq2fWn",
        "colab": {
          "base_uri": "https://localhost:8080/"
        },
        "outputId": "db05a5a1-70ff-4b8d-fa99-071ab3e8482e"
      },
      "source": [
        "print(f1_score(preds_train, y_test_2, average='macro'))\n",
        "print(\"Precision = {}\".format(precision_score(y_test_2, preds_train, average='macro')))\n",
        "print(\"Recall = {}\".format(recall_score(y_test_2, preds_train, average='macro')))\n",
        "print(\"Accuracy = {}\".format(accuracy_score(y_test_2, preds_train)))"
      ],
      "execution_count": null,
      "outputs": [
        {
          "output_type": "stream",
          "text": [
            "0.5331465919701214\n",
            "Precision = 0.534047919293821\n",
            "Recall = 0.5332512315270936\n",
            "Accuracy = 0.55\n"
          ],
          "name": "stdout"
        }
      ]
    },
    {
      "cell_type": "code",
      "metadata": {
        "id": "Tw-Slt7u4MXu",
        "colab": {
          "base_uri": "https://localhost:8080/",
          "height": 296
        },
        "outputId": "c551600c-e200-431e-b7f4-d7e40e737f19"
      },
      "source": [
        "from sklearn.metrics import roc_curve\n",
        "from sklearn.metrics import roc_auc_score\n",
        "from matplotlib import pyplot\n",
        "\n",
        "roc_auc = roc_auc_score(y_test_2, preds_train)\n",
        "print('ROC AUC=%.5f' % (roc_auc))\n",
        "\n",
        "roc_fpr, roc_tpr , _ = roc_curve(y_test_2, preds_train)\n",
        "\n",
        "pyplot.plot(roc_fpr, roc_tpr, linestyle='--', label='recommendation')\n",
        "\n",
        "# axis labels\n",
        "pyplot.xlabel('False Positive Rate')\n",
        "pyplot.ylabel('True Positive Rate')\n",
        "# show the legend\n",
        "pyplot.legend()\n",
        "# show the plot\n",
        "pyplot.show()"
      ],
      "execution_count": null,
      "outputs": [
        {
          "output_type": "stream",
          "text": [
            "ROC AUC=0.53325\n"
          ],
          "name": "stdout"
        },
        {
          "output_type": "display_data",
          "data": {
            "image/png": "[encoded data removed]",
            "text/plain": [
              "<Figure size 432x288 with 1 Axes>"
            ]
          },
          "metadata": {
            "tags": [],
            "needs_background": "light"
          }
        }
      ]
    },
    {
      "cell_type": "markdown",
      "metadata": {
        "id": "4TYBEtJsBwFy"
      },
      "source": [
        "## Categorical Encodings"
      ]
    },
    {
      "cell_type": "code",
      "metadata": {
        "id": "ZQqhIZpBGPDC",
        "colab": {
          "base_uri": "https://localhost:8080/",
          "height": 195
        },
        "outputId": "fe254add-5094-4cc7-df79-76aa348debdf"
      },
      "source": [
        "training_data = pd.read_csv(\"/content/Attribute_DataSet.csv\")\n",
        "training_data.head()"
      ],
      "execution_count": null,
      "outputs": [
        {
          "output_type": "execute_result",
          "data": {
            "text/html": [
              "<div>\n",
              "<style scoped>\n",
              "    .dataframe tbody tr th:only-of-type {\n",
              "        vertical-align: middle;\n",
              "    }\n",
              "\n",
              "    .dataframe tbody tr th {\n",
              "        vertical-align: top;\n",
              "    }\n",
              "\n",
              "    .dataframe thead th {\n",
              "        text-align: right;\n",
              "    }\n",
              "</style>\n",
              "<table border=\"1\" class=\"dataframe\">\n",
              "  <thead>\n",
              "    <tr style=\"text-align: right;\">\n",
              "      <th></th>\n",
              "      <th>Dress_ID</th>\n",
              "      <th>Style</th>\n",
              "      <th>Price</th>\n",
              "      <th>PatternType</th>\n",
              "      <th>Size</th>\n",
              "      <th>Season</th>\n",
              "      <th>NeckLine</th>\n",
              "      <th>SleeveLength</th>\n",
              "      <th>waiseline</th>\n",
              "      <th>Material</th>\n",
              "      <th>FabricType</th>\n",
              "      <th>Decoration</th>\n",
              "      <th>Rating</th>\n",
              "      <th>Recommendation</th>\n",
              "    </tr>\n",
              "  </thead>\n",
              "  <tbody>\n",
              "    <tr>\n",
              "      <th>0</th>\n",
              "      <td>1006032852</td>\n",
              "      <td>Sexy</td>\n",
              "      <td>Low</td>\n",
              "      <td>animal</td>\n",
              "      <td>M</td>\n",
              "      <td>Summer</td>\n",
              "      <td>o-neck</td>\n",
              "      <td>sleevless</td>\n",
              "      <td>empire</td>\n",
              "      <td>NaN</td>\n",
              "      <td>chiffon</td>\n",
              "      <td>ruffles</td>\n",
              "      <td>4.6</td>\n",
              "      <td>1</td>\n",
              "    </tr>\n",
              "    <tr>\n",
              "      <th>1</th>\n",
              "      <td>1212192089</td>\n",
              "      <td>Casual</td>\n",
              "      <td>Low</td>\n",
              "      <td>animal</td>\n",
              "      <td>L</td>\n",
              "      <td>Summer</td>\n",
              "      <td>o-neck</td>\n",
              "      <td>Petal</td>\n",
              "      <td>natural</td>\n",
              "      <td>microfiber</td>\n",
              "      <td>NaN</td>\n",
              "      <td>ruffles</td>\n",
              "      <td>0.0</td>\n",
              "      <td>0</td>\n",
              "    </tr>\n",
              "    <tr>\n",
              "      <th>2</th>\n",
              "      <td>1190380701</td>\n",
              "      <td>vintage</td>\n",
              "      <td>High</td>\n",
              "      <td>print</td>\n",
              "      <td>L</td>\n",
              "      <td>Automn</td>\n",
              "      <td>o-neck</td>\n",
              "      <td>full</td>\n",
              "      <td>natural</td>\n",
              "      <td>polyster</td>\n",
              "      <td>NaN</td>\n",
              "      <td>NaN</td>\n",
              "      <td>0.0</td>\n",
              "      <td>0</td>\n",
              "    </tr>\n",
              "    <tr>\n",
              "      <th>3</th>\n",
              "      <td>966005983</td>\n",
              "      <td>Brief</td>\n",
              "      <td>Average</td>\n",
              "      <td>print</td>\n",
              "      <td>L</td>\n",
              "      <td>Spring</td>\n",
              "      <td>o-neck</td>\n",
              "      <td>full</td>\n",
              "      <td>natural</td>\n",
              "      <td>silk</td>\n",
              "      <td>chiffon</td>\n",
              "      <td>embroidary</td>\n",
              "      <td>4.6</td>\n",
              "      <td>1</td>\n",
              "    </tr>\n",
              "    <tr>\n",
              "      <th>4</th>\n",
              "      <td>876339541</td>\n",
              "      <td>cute</td>\n",
              "      <td>Low</td>\n",
              "      <td>dot</td>\n",
              "      <td>M</td>\n",
              "      <td>Summer</td>\n",
              "      <td>o-neck</td>\n",
              "      <td>butterfly</td>\n",
              "      <td>natural</td>\n",
              "      <td>chiffonfabric</td>\n",
              "      <td>chiffon</td>\n",
              "      <td>bow</td>\n",
              "      <td>4.5</td>\n",
              "      <td>0</td>\n",
              "    </tr>\n",
              "  </tbody>\n",
              "</table>\n",
              "</div>"
            ],
            "text/plain": [
              "     Dress_ID    Style    Price  ...  Decoration Rating Recommendation\n",
              "0  1006032852     Sexy      Low  ...     ruffles    4.6              1\n",
              "1  1212192089   Casual      Low  ...     ruffles    0.0              0\n",
              "2  1190380701  vintage     High  ...         NaN    0.0              0\n",
              "3   966005983    Brief  Average  ...  embroidary    4.6              1\n",
              "4   876339541     cute      Low  ...         bow    4.5              0\n",
              "\n",
              "[5 rows x 14 columns]"
            ]
          },
          "metadata": {
            "tags": []
          },
          "execution_count": 87
        }
      ]
    },
    {
      "cell_type": "code",
      "metadata": {
        "id": "llczrsDUBubw",
        "colab": {
          "base_uri": "https://localhost:8080/"
        },
        "outputId": "f21b34eb-50d5-420a-ac43-d6b01bdf2a54"
      },
      "source": [
        "!pip install category_encoders"
      ],
      "execution_count": null,
      "outputs": [
        {
          "output_type": "stream",
          "text": [
            "Requirement already satisfied: category_encoders in /usr/local/lib/python3.7/dist-packages (2.2.2)\n",
            "Requirement already satisfied: scipy>=1.0.0 in /usr/local/lib/python3.7/dist-packages (from category_encoders) (1.4.1)\n",
            "Requirement already satisfied: scikit-learn>=0.20.0 in /usr/local/lib/python3.7/dist-packages (from category_encoders) (0.22.2.post1)\n",
            "Requirement already satisfied: patsy>=0.5.1 in /usr/local/lib/python3.7/dist-packages (from category_encoders) (0.5.1)\n",
            "Requirement already satisfied: numpy>=1.14.0 in /usr/local/lib/python3.7/dist-packages (from category_encoders) (1.19.5)\n",
            "Requirement already satisfied: statsmodels>=0.9.0 in /usr/local/lib/python3.7/dist-packages (from category_encoders) (0.10.2)\n",
            "Requirement already satisfied: pandas>=0.21.1 in /usr/local/lib/python3.7/dist-packages (from category_encoders) (1.1.5)\n",
            "Requirement already satisfied: joblib>=0.11 in /usr/local/lib/python3.7/dist-packages (from scikit-learn>=0.20.0->category_encoders) (1.0.1)\n",
            "Requirement already satisfied: six in /usr/local/lib/python3.7/dist-packages (from patsy>=0.5.1->category_encoders) (1.15.0)\n",
            "Requirement already satisfied: python-dateutil>=2.7.3 in /usr/local/lib/python3.7/dist-packages (from pandas>=0.21.1->category_encoders) (2.8.1)\n",
            "Requirement already satisfied: pytz>=2017.2 in /usr/local/lib/python3.7/dist-packages (from pandas>=0.21.1->category_encoders) (2018.9)\n"
          ],
          "name": "stdout"
        }
      ]
    },
    {
      "cell_type": "code",
      "metadata": {
        "id": "zVcUhWoBFYr2",
        "colab": {
          "base_uri": "https://localhost:8080/"
        },
        "outputId": "7a98d848-9ab1-40ee-bb27-192acb75d785"
      },
      "source": [
        "import category_encoders as ce\n",
        "cat_features = ['Style', 'Price', 'PatternType', 'Size', 'Season',\n",
        "       'NeckLine', 'SleeveLength', 'waiseline', 'Material', 'FabricType',\n",
        "       'Decoration', 'Rating']\n",
        "count_enc = ce.CountEncoder()\n",
        "count_encoded = count_enc.fit_transform(training_data[cat_features])\n",
        "\n",
        "data = x_2.join(count_encoded.add_suffix(\"_count\"))\n",
        "\n",
        "# for i in cat_features:\n",
        "#   data = data.drop(i,axis=1) \n",
        "\n",
        "# data = data.drop('Recommendation',axis=1)  "
      ],
      "execution_count": null,
      "outputs": [
        {
          "output_type": "stream",
          "text": [
            "/usr/local/lib/python3.7/dist-packages/statsmodels/tools/_testing.py:19: FutureWarning: pandas.util.testing is deprecated. Use the functions in the public API at pandas.testing instead.\n",
            "  import pandas.util.testing as tm\n"
          ],
          "name": "stderr"
        }
      ]
    },
    {
      "cell_type": "code",
      "metadata": {
        "id": "L_IuJMqwGoHk"
      },
      "source": [
        "x_train_3, x_test_3, y_train_3, y_test_3 = train_test_split(data, training_data.Recommendation, random_state = 1)"
      ],
      "execution_count": null,
      "outputs": []
    },
    {
      "cell_type": "code",
      "metadata": {
        "id": "s0rkZT9LKVyq",
        "colab": {
          "base_uri": "https://localhost:8080/"
        },
        "outputId": "ad400bce-1361-44f2-9c0a-1331a9609358"
      },
      "source": [
        "data.dtypes"
      ],
      "execution_count": null,
      "outputs": [
        {
          "output_type": "execute_result",
          "data": {
            "text/plain": [
              "Rating                   float64\n",
              "updStyle                 float64\n",
              "updPrice                 float64\n",
              "updSeason                float64\n",
              "updNeckLine              float64\n",
              "updSleeveLength          float64\n",
              "PatternType_animal         uint8\n",
              "PatternType_character      uint8\n",
              "PatternType_dot            uint8\n",
              "PatternType_floral         uint8\n",
              "PatternType_geometric      uint8\n",
              "PatternType_leopard        uint8\n",
              "PatternType_patchwork      uint8\n",
              "PatternType_plaid          uint8\n",
              "PatternType_print          uint8\n",
              "PatternType_solid          uint8\n",
              "PatternType_splice         uint8\n",
              "PatternType_striped        uint8\n",
              "waiseline_dropped          uint8\n",
              "waiseline_empire           uint8\n",
              "waiseline_n                uint8\n",
              "waiseline_natural          uint8\n",
              "waiseline_princess         uint8\n",
              "Material_acrylic           uint8\n",
              "Material_cashmere          uint8\n",
              "Material_chiffon           uint8\n",
              "Material_cotton            uint8\n",
              "Material_knitting          uint8\n",
              "Material_lace              uint8\n",
              "Material_linen             uint8\n",
              "Material_lycra             uint8\n",
              "Material_microfiber        uint8\n",
              "Material_milksilk          uint8\n",
              "Material_mix               uint8\n",
              "Material_modal             uint8\n",
              "Material_nylon             uint8\n",
              "Material_other             uint8\n",
              "Material_polyster          uint8\n",
              "Material_rayon             uint8\n",
              "Material_silk              uint8\n",
              "Material_spandex           uint8\n",
              "Material_viscos            uint8\n",
              "Material_wool              uint8\n",
              "Style_count              float64\n",
              "Price_count              float64\n",
              "PatternType_count        float64\n",
              "Size_count               float64\n",
              "Season_count             float64\n",
              "NeckLine_count           float64\n",
              "SleeveLength_count       float64\n",
              "waiseline_count          float64\n",
              "Material_count           float64\n",
              "FabricType_count         float64\n",
              "Decoration_count         float64\n",
              "Rating_count             float64\n",
              "dtype: object"
            ]
          },
          "metadata": {
            "tags": []
          },
          "execution_count": 92
        }
      ]
    },
    {
      "cell_type": "code",
      "metadata": {
        "id": "UfU0BHGYHgPE"
      },
      "source": [
        "xgb_model_1a =  XGBClassifier(n_estimators=1500,learning_rate=0.05) \n",
        "\n",
        "xgb_model_1a.fit(x_train_3,y_train_3)\n",
        "predictions_1a = xgb_model_1a.predict(x_test_3)"
      ],
      "execution_count": null,
      "outputs": []
    },
    {
      "cell_type": "code",
      "metadata": {
        "id": "tTFV6oi-Ilkx",
        "colab": {
          "base_uri": "https://localhost:8080/"
        },
        "outputId": "d3d3a8bb-046b-401f-95c8-6dc596bbcbca"
      },
      "source": [
        "x_test_3.columns"
      ],
      "execution_count": null,
      "outputs": [
        {
          "output_type": "execute_result",
          "data": {
            "text/plain": [
              "Index(['Rating', 'updStyle', 'updPrice', 'updSeason', 'updNeckLine',\n",
              "       'updSleeveLength', 'PatternType_animal', 'PatternType_character',\n",
              "       'PatternType_dot', 'PatternType_floral', 'PatternType_geometric',\n",
              "       'PatternType_leopard', 'PatternType_patchwork', 'PatternType_plaid',\n",
              "       'PatternType_print', 'PatternType_solid', 'PatternType_splice',\n",
              "       'PatternType_striped', 'waiseline_dropped', 'waiseline_empire',\n",
              "       'waiseline_n', 'waiseline_natural', 'waiseline_princess',\n",
              "       'Material_acrylic', 'Material_cashmere', 'Material_chiffon',\n",
              "       'Material_cotton', 'Material_knitting', 'Material_lace',\n",
              "       'Material_linen', 'Material_lycra', 'Material_microfiber',\n",
              "       'Material_milksilk', 'Material_mix', 'Material_modal', 'Material_nylon',\n",
              "       'Material_other', 'Material_polyster', 'Material_rayon',\n",
              "       'Material_silk', 'Material_spandex', 'Material_viscos', 'Material_wool',\n",
              "       'Style_count', 'Price_count', 'PatternType_count', 'Size_count',\n",
              "       'Season_count', 'NeckLine_count', 'SleeveLength_count',\n",
              "       'waiseline_count', 'Material_count', 'FabricType_count',\n",
              "       'Decoration_count', 'Rating_count'],\n",
              "      dtype='object')"
            ]
          },
          "metadata": {
            "tags": []
          },
          "execution_count": 94
        }
      ]
    },
    {
      "cell_type": "code",
      "metadata": {
        "id": "DrwGkm0xIbnW",
        "colab": {
          "base_uri": "https://localhost:8080/",
          "height": 295
        },
        "outputId": "ab74aea8-41ed-4c38-ebf4-88bba63e05b4"
      },
      "source": [
        "td_feature_names = x_train_3.columns\n",
        "\n",
        "plot_importance(xgb_model_1a)\n",
        "pyplot.show()"
      ],
      "execution_count": null,
      "outputs": [
        {
          "output_type": "display_data",
          "data": {
            "image/png": "[encoded data removed]",
            "text/plain": [
              "<Figure size 432x288 with 1 Axes>"
            ]
          },
          "metadata": {
            "tags": [],
            "needs_background": "light"
          }
        }
      ]
    },
    {
      "cell_type": "code",
      "metadata": {
        "id": "G_H7YxQmIEnB",
        "colab": {
          "base_uri": "https://localhost:8080/"
        },
        "outputId": "896a2868-1758-4907-c693-6d294f002316"
      },
      "source": [
        "print(f1_score(predictions_1a, y_test_3, average='macro'))\n",
        "print(\"Precision = {}\".format(precision_score(y_test_3, predictions_1a, average='macro')))\n",
        "print(\"Recall = {}\".format(recall_score(y_test_3, predictions_1a, average='macro')))\n",
        "print(\"Accuracy = {}\".format(accuracy_score(y_test_3, predictions_1a)))"
      ],
      "execution_count": null,
      "outputs": [
        {
          "output_type": "stream",
          "text": [
            "0.37617473588696615\n",
            "Precision = 0.3756551362683438\n",
            "Recall = 0.3778950077200206\n",
            "Accuracy = 0.384\n"
          ],
          "name": "stdout"
        }
      ]
    },
    {
      "cell_type": "markdown",
      "metadata": {
        "id": "nd5vxp1LpTjz"
      },
      "source": [
        "# Experiment"
      ]
    },
    {
      "cell_type": "code",
      "metadata": {
        "id": "9oJX4BsRpa-z"
      },
      "source": [
        ""
      ],
      "execution_count": null,
      "outputs": []
    },
    {
      "cell_type": "code",
      "metadata": {
        "id": "o3pTLOZvpyvT"
      },
      "source": [
        ""
      ],
      "execution_count": null,
      "outputs": []
    },
    {
      "cell_type": "code",
      "metadata": {
        "id": "Mc5Yq63XoLF9"
      },
      "source": [
        ""
      ],
      "execution_count": null,
      "outputs": []
    },
    {
      "cell_type": "markdown",
      "metadata": {
        "id": "Da7XgaHkoMZ_"
      },
      "source": [
        "# New Section"
      ]
    },
    {
      "cell_type": "code",
      "metadata": {
        "id": "Te3SrOQoqE9_"
      },
      "source": [
        ""
      ],
      "execution_count": null,
      "outputs": []
    },
    {
      "cell_type": "markdown",
      "metadata": {
        "id": "AK76rlkKql05"
      },
      "source": [
        "## model"
      ]
    },
    {
      "cell_type": "code",
      "metadata": {
        "id": "VXK_2Q5DruAU",
        "colab": {
          "base_uri": "https://localhost:8080/"
        },
        "outputId": "652958ce-d844-49a6-baca-c8c5303deed6"
      },
      "source": [
        "attribute_data.dtypes"
      ],
      "execution_count": null,
      "outputs": [
        {
          "output_type": "execute_result",
          "data": {
            "text/plain": [
              "Style              object\n",
              "Price              object\n",
              "PatternType        object\n",
              "Size               object\n",
              "Season             object\n",
              "NeckLine           object\n",
              "SleeveLength       object\n",
              "waiseline          object\n",
              "Material           object\n",
              "Rating            float64\n",
              "Recommendation      int64\n",
              "dtype: object"
            ]
          },
          "metadata": {
            "tags": []
          },
          "execution_count": 97
        }
      ]
    },
    {
      "cell_type": "code",
      "metadata": {
        "id": "bh5daK4_qk9C",
        "colab": {
          "base_uri": "https://localhost:8080/",
          "height": 370
        },
        "outputId": "87f15882-0dd5-464c-88be-2da296670b00"
      },
      "source": [
        "from xgboost import XGBClassifier\n",
        "from sklearn.preprocessing import LabelEncoder\n",
        "\n",
        "features = ['Style', 'Price', 'PatternType', 'Size', 'Season',\n",
        "       'NeckLine', 'SleeveLength', 'waiseline', 'Material', 'FabricType',\n",
        "       'Decoration', 'Rating']\n",
        "\n",
        "enc = LabelEncoder()\n",
        "\n",
        "for i in features:\n",
        "  attribute_data['Recommendation'] = enc.fit_transform(attribute_data['Recommendation'])\n",
        "X_train, X_valid, y_train, y_valid = train_test_split(attribute_data[features], attribute_data.Recommendation, random_state = 0)\n",
        "\n",
        "X = attribute_data[features]\n",
        "y = attribute_data.Recommendation"
      ],
      "execution_count": null,
      "outputs": [
        {
          "output_type": "error",
          "ename": "KeyError",
          "evalue": "ignored",
          "traceback": [
            "\u001b[0;31m---------------------------------------------------------------------------\u001b[0m",
            "\u001b[0;31mKeyError\u001b[0m                                  Traceback (most recent call last)",
            "\u001b[0;32m<ipython-input-98-f5dcff38c641>\u001b[0m in \u001b[0;36m<module>\u001b[0;34m()\u001b[0m\n\u001b[1;32m     10\u001b[0m \u001b[0;32mfor\u001b[0m \u001b[0mi\u001b[0m \u001b[0;32min\u001b[0m \u001b[0mfeatures\u001b[0m\u001b[0;34m:\u001b[0m\u001b[0;34m\u001b[0m\u001b[0;34m\u001b[0m\u001b[0m\n\u001b[1;32m     11\u001b[0m   \u001b[0mattribute_data\u001b[0m\u001b[0;34m[\u001b[0m\u001b[0;34m'Recommendation'\u001b[0m\u001b[0;34m]\u001b[0m \u001b[0;34m=\u001b[0m \u001b[0menc\u001b[0m\u001b[0;34m.\u001b[0m\u001b[0mfit_transform\u001b[0m\u001b[0;34m(\u001b[0m\u001b[0mattribute_data\u001b[0m\u001b[0;34m[\u001b[0m\u001b[0;34m'Recommendation'\u001b[0m\u001b[0;34m]\u001b[0m\u001b[0;34m)\u001b[0m\u001b[0;34m\u001b[0m\u001b[0;34m\u001b[0m\u001b[0m\n\u001b[0;32m---> 12\u001b[0;31m \u001b[0mX_train\u001b[0m\u001b[0;34m,\u001b[0m \u001b[0mX_valid\u001b[0m\u001b[0;34m,\u001b[0m \u001b[0my_train\u001b[0m\u001b[0;34m,\u001b[0m \u001b[0my_valid\u001b[0m \u001b[0;34m=\u001b[0m \u001b[0mtrain_test_split\u001b[0m\u001b[0;34m(\u001b[0m\u001b[0mattribute_data\u001b[0m\u001b[0;34m[\u001b[0m\u001b[0mfeatures\u001b[0m\u001b[0;34m]\u001b[0m\u001b[0;34m,\u001b[0m \u001b[0mattribute_data\u001b[0m\u001b[0;34m.\u001b[0m\u001b[0mRecommendation\u001b[0m\u001b[0;34m,\u001b[0m \u001b[0mrandom_state\u001b[0m \u001b[0;34m=\u001b[0m \u001b[0;36m0\u001b[0m\u001b[0;34m)\u001b[0m\u001b[0;34m\u001b[0m\u001b[0;34m\u001b[0m\u001b[0m\n\u001b[0m\u001b[1;32m     13\u001b[0m \u001b[0;34m\u001b[0m\u001b[0m\n\u001b[1;32m     14\u001b[0m \u001b[0mX\u001b[0m \u001b[0;34m=\u001b[0m \u001b[0mattribute_data\u001b[0m\u001b[0;34m[\u001b[0m\u001b[0mfeatures\u001b[0m\u001b[0;34m]\u001b[0m\u001b[0;34m\u001b[0m\u001b[0;34m\u001b[0m\u001b[0m\n",
            "\u001b[0;32m/usr/local/lib/python3.7/dist-packages/pandas/core/frame.py\u001b[0m in \u001b[0;36m__getitem__\u001b[0;34m(self, key)\u001b[0m\n\u001b[1;32m   2910\u001b[0m             \u001b[0;32mif\u001b[0m \u001b[0mis_iterator\u001b[0m\u001b[0;34m(\u001b[0m\u001b[0mkey\u001b[0m\u001b[0;34m)\u001b[0m\u001b[0;34m:\u001b[0m\u001b[0;34m\u001b[0m\u001b[0;34m\u001b[0m\u001b[0m\n\u001b[1;32m   2911\u001b[0m                 \u001b[0mkey\u001b[0m \u001b[0;34m=\u001b[0m \u001b[0mlist\u001b[0m\u001b[0;34m(\u001b[0m\u001b[0mkey\u001b[0m\u001b[0;34m)\u001b[0m\u001b[0;34m\u001b[0m\u001b[0;34m\u001b[0m\u001b[0m\n\u001b[0;32m-> 2912\u001b[0;31m             \u001b[0mindexer\u001b[0m \u001b[0;34m=\u001b[0m \u001b[0mself\u001b[0m\u001b[0;34m.\u001b[0m\u001b[0mloc\u001b[0m\u001b[0;34m.\u001b[0m\u001b[0m_get_listlike_indexer\u001b[0m\u001b[0;34m(\u001b[0m\u001b[0mkey\u001b[0m\u001b[0;34m,\u001b[0m \u001b[0maxis\u001b[0m\u001b[0;34m=\u001b[0m\u001b[0;36m1\u001b[0m\u001b[0;34m,\u001b[0m \u001b[0mraise_missing\u001b[0m\u001b[0;34m=\u001b[0m\u001b[0;32mTrue\u001b[0m\u001b[0;34m)\u001b[0m\u001b[0;34m[\u001b[0m\u001b[0;36m1\u001b[0m\u001b[0;34m]\u001b[0m\u001b[0;34m\u001b[0m\u001b[0;34m\u001b[0m\u001b[0m\n\u001b[0m\u001b[1;32m   2913\u001b[0m \u001b[0;34m\u001b[0m\u001b[0m\n\u001b[1;32m   2914\u001b[0m         \u001b[0;31m# take() does not accept boolean indexers\u001b[0m\u001b[0;34m\u001b[0m\u001b[0;34m\u001b[0m\u001b[0;34m\u001b[0m\u001b[0m\n",
            "\u001b[0;32m/usr/local/lib/python3.7/dist-packages/pandas/core/indexing.py\u001b[0m in \u001b[0;36m_get_listlike_indexer\u001b[0;34m(self, key, axis, raise_missing)\u001b[0m\n\u001b[1;32m   1252\u001b[0m             \u001b[0mkeyarr\u001b[0m\u001b[0;34m,\u001b[0m \u001b[0mindexer\u001b[0m\u001b[0;34m,\u001b[0m \u001b[0mnew_indexer\u001b[0m \u001b[0;34m=\u001b[0m \u001b[0max\u001b[0m\u001b[0;34m.\u001b[0m\u001b[0m_reindex_non_unique\u001b[0m\u001b[0;34m(\u001b[0m\u001b[0mkeyarr\u001b[0m\u001b[0;34m)\u001b[0m\u001b[0;34m\u001b[0m\u001b[0;34m\u001b[0m\u001b[0m\n\u001b[1;32m   1253\u001b[0m \u001b[0;34m\u001b[0m\u001b[0m\n\u001b[0;32m-> 1254\u001b[0;31m         \u001b[0mself\u001b[0m\u001b[0;34m.\u001b[0m\u001b[0m_validate_read_indexer\u001b[0m\u001b[0;34m(\u001b[0m\u001b[0mkeyarr\u001b[0m\u001b[0;34m,\u001b[0m \u001b[0mindexer\u001b[0m\u001b[0;34m,\u001b[0m \u001b[0maxis\u001b[0m\u001b[0;34m,\u001b[0m \u001b[0mraise_missing\u001b[0m\u001b[0;34m=\u001b[0m\u001b[0mraise_missing\u001b[0m\u001b[0;34m)\u001b[0m\u001b[0;34m\u001b[0m\u001b[0;34m\u001b[0m\u001b[0m\n\u001b[0m\u001b[1;32m   1255\u001b[0m         \u001b[0;32mreturn\u001b[0m \u001b[0mkeyarr\u001b[0m\u001b[0;34m,\u001b[0m \u001b[0mindexer\u001b[0m\u001b[0;34m\u001b[0m\u001b[0;34m\u001b[0m\u001b[0m\n\u001b[1;32m   1256\u001b[0m \u001b[0;34m\u001b[0m\u001b[0m\n",
            "\u001b[0;32m/usr/local/lib/python3.7/dist-packages/pandas/core/indexing.py\u001b[0m in \u001b[0;36m_validate_read_indexer\u001b[0;34m(self, key, indexer, axis, raise_missing)\u001b[0m\n\u001b[1;32m   1302\u001b[0m             \u001b[0;32mif\u001b[0m \u001b[0mraise_missing\u001b[0m\u001b[0;34m:\u001b[0m\u001b[0;34m\u001b[0m\u001b[0;34m\u001b[0m\u001b[0m\n\u001b[1;32m   1303\u001b[0m                 \u001b[0mnot_found\u001b[0m \u001b[0;34m=\u001b[0m \u001b[0mlist\u001b[0m\u001b[0;34m(\u001b[0m\u001b[0mset\u001b[0m\u001b[0;34m(\u001b[0m\u001b[0mkey\u001b[0m\u001b[0;34m)\u001b[0m \u001b[0;34m-\u001b[0m \u001b[0mset\u001b[0m\u001b[0;34m(\u001b[0m\u001b[0max\u001b[0m\u001b[0;34m)\u001b[0m\u001b[0;34m)\u001b[0m\u001b[0;34m\u001b[0m\u001b[0;34m\u001b[0m\u001b[0m\n\u001b[0;32m-> 1304\u001b[0;31m                 \u001b[0;32mraise\u001b[0m \u001b[0mKeyError\u001b[0m\u001b[0;34m(\u001b[0m\u001b[0;34mf\"{not_found} not in index\"\u001b[0m\u001b[0;34m)\u001b[0m\u001b[0;34m\u001b[0m\u001b[0;34m\u001b[0m\u001b[0m\n\u001b[0m\u001b[1;32m   1305\u001b[0m \u001b[0;34m\u001b[0m\u001b[0m\n\u001b[1;32m   1306\u001b[0m             \u001b[0;31m# we skip the warning on Categorical\u001b[0m\u001b[0;34m\u001b[0m\u001b[0;34m\u001b[0m\u001b[0;34m\u001b[0m\u001b[0m\n",
            "\u001b[0;31mKeyError\u001b[0m: \"['FabricType', 'Decoration'] not in index\""
          ]
        }
      ]
    },
    {
      "cell_type": "code",
      "metadata": {
        "id": "lrluUmwbqNHd"
      },
      "source": [
        ""
      ],
      "execution_count": null,
      "outputs": []
    }
  ]
}